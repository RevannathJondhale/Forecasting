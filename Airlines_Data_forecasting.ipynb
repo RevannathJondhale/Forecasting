{
 "cells": [
  {
   "cell_type": "code",
   "execution_count": 1,
   "id": "cef5e4d0",
   "metadata": {},
   "outputs": [],
   "source": [
    "##Revannath Jondhale"
   ]
  },
  {
   "cell_type": "code",
   "execution_count": 2,
   "id": "425e7712",
   "metadata": {},
   "outputs": [],
   "source": [
    "import pandas as pd"
   ]
  },
  {
   "cell_type": "code",
   "execution_count": 3,
   "id": "ff7948f0",
   "metadata": {},
   "outputs": [],
   "source": [
    "import numpy as np"
   ]
  },
  {
   "cell_type": "code",
   "execution_count": 4,
   "id": "9d5f8c1f",
   "metadata": {},
   "outputs": [],
   "source": [
    "import matplotlib.pyplot as plt"
   ]
  },
  {
   "cell_type": "code",
   "execution_count": 5,
   "id": "a71c79b1",
   "metadata": {},
   "outputs": [],
   "source": [
    "import seaborn as sns"
   ]
  },
  {
   "cell_type": "code",
   "execution_count": 15,
   "id": "eae79d0e",
   "metadata": {},
   "outputs": [],
   "source": [
    "import statsmodels.api as sm"
   ]
  },
  {
   "cell_type": "code",
   "execution_count": 7,
   "id": "3d347a37",
   "metadata": {},
   "outputs": [],
   "source": [
    "from statsmodels.tsa.seasonal import seasonal_decompose"
   ]
  },
  {
   "cell_type": "code",
   "execution_count": 8,
   "id": "126fe616",
   "metadata": {},
   "outputs": [],
   "source": [
    "from statsmodels.tsa.holtwinters import SimpleExpSmoothing # SES"
   ]
  },
  {
   "cell_type": "code",
   "execution_count": 9,
   "id": "4a6e6a32",
   "metadata": {},
   "outputs": [],
   "source": [
    "from statsmodels.tsa.holtwinters import Holt # Holts Exponential Smoothing"
   ]
  },
  {
   "cell_type": "code",
   "execution_count": 10,
   "id": "624b653a",
   "metadata": {},
   "outputs": [],
   "source": [
    "from statsmodels.tsa.holtwinters import ExponentialSmoothing # "
   ]
  },
  {
   "cell_type": "code",
   "execution_count": 11,
   "id": "b347799c",
   "metadata": {},
   "outputs": [],
   "source": [
    "import statsmodels.graphics.tsaplots as tsa_plots"
   ]
  },
  {
   "cell_type": "code",
   "execution_count": 12,
   "id": "dbf40a81",
   "metadata": {},
   "outputs": [],
   "source": [
    "import statsmodels.tsa.statespace as tm_models"
   ]
  },
  {
   "cell_type": "code",
   "execution_count": 13,
   "id": "4e5c6973",
   "metadata": {},
   "outputs": [],
   "source": [
    "from datetime import datetime,time"
   ]
  },
  {
   "cell_type": "code",
   "execution_count": 14,
   "id": "87e175a8",
   "metadata": {},
   "outputs": [],
   "source": [
    "airlines = pd.read_excel(\"Airlines+Data.xlsx\")"
   ]
  },
  {
   "cell_type": "code",
   "execution_count": 16,
   "id": "ef3b50e4",
   "metadata": {},
   "outputs": [
    {
     "name": "stdout",
     "output_type": "stream",
     "text": [
      "        Month  Passengers\n",
      "0  1995-01-01         112\n",
      "1  1995-02-01         118\n",
      "2  1995-03-01         132\n",
      "3  1995-04-01         129\n",
      "4  1995-05-01         121\n",
      "..        ...         ...\n",
      "91 2002-08-01         405\n",
      "92 2002-09-01         355\n",
      "93 2002-10-01         306\n",
      "94 2002-11-01         271\n",
      "95 2002-12-01         306\n",
      "\n",
      "[96 rows x 2 columns]\n"
     ]
    }
   ],
   "source": [
    "print(airlines)"
   ]
  },
  {
   "cell_type": "code",
   "execution_count": 17,
   "id": "ed5cfe44",
   "metadata": {},
   "outputs": [
    {
     "data": {
      "text/plain": [
       "Index(['Month', 'Passengers'], dtype='object')"
      ]
     },
     "execution_count": 17,
     "metadata": {},
     "output_type": "execute_result"
    }
   ],
   "source": [
    "airlines.columns"
   ]
  },
  {
   "cell_type": "code",
   "execution_count": 19,
   "id": "0be08b21",
   "metadata": {},
   "outputs": [],
   "source": [
    "# convert the normal index  airlines dataset to to times stamp"
   ]
  },
  {
   "cell_type": "code",
   "execution_count": 20,
   "id": "2f406637",
   "metadata": {},
   "outputs": [],
   "source": [
    "airlines.index = pd.to_datetime(airlines.Month,format=\"%b-%y\")"
   ]
  },
  {
   "cell_type": "code",
   "execution_count": 21,
   "id": "4ca274ca",
   "metadata": {},
   "outputs": [
    {
     "name": "stdout",
     "output_type": "stream",
     "text": [
      "                Month  Passengers\n",
      "Month                            \n",
      "1995-01-01 1995-01-01         112\n",
      "1995-02-01 1995-02-01         118\n",
      "1995-03-01 1995-03-01         132\n",
      "1995-04-01 1995-04-01         129\n",
      "1995-05-01 1995-05-01         121\n",
      "...               ...         ...\n",
      "2002-08-01 2002-08-01         405\n",
      "2002-09-01 2002-09-01         355\n",
      "2002-10-01 2002-10-01         306\n",
      "2002-11-01 2002-11-01         271\n",
      "2002-12-01 2002-12-01         306\n",
      "\n",
      "[96 rows x 2 columns]\n"
     ]
    }
   ],
   "source": [
    "print(airlines)"
   ]
  },
  {
   "cell_type": "code",
   "execution_count": 22,
   "id": "915d6e12",
   "metadata": {},
   "outputs": [
    {
     "data": {
      "text/plain": [
       "<AxesSubplot:xlabel='Month'>"
      ]
     },
     "execution_count": 22,
     "metadata": {},
     "output_type": "execute_result"
    },
    {
     "data": {
      "image/png": "[encoded data removed]",
      "text/plain": [
       "<Figure size 432x288 with 1 Axes>"
      ]
     },
     "metadata": {
      "needs_background": "light"
     },
     "output_type": "display_data"
    }
   ],
   "source": [
    "airlines.Passengers.plot()## plotting"
   ]
  },
  {
   "cell_type": "code",
   "execution_count": 23,
   "id": "6e2aa2cd",
   "metadata": {},
   "outputs": [
    {
     "data": {
      "text/html": [
       "<div>\n",
       "<style scoped>\n",
       "    .dataframe tbody tr th:only-of-type {\n",
       "        vertical-align: middle;\n",
       "    }\n",
       "\n",
       "    .dataframe tbody tr th {\n",
       "        vertical-align: top;\n",
       "    }\n",
       "\n",
       "    .dataframe thead th {\n",
       "        text-align: right;\n",
       "    }\n",
       "</style>\n",
       "<table border=\"1\" class=\"dataframe\">\n",
       "  <thead>\n",
       "    <tr style=\"text-align: right;\">\n",
       "      <th></th>\n",
       "      <th>Month</th>\n",
       "      <th>Passengers</th>\n",
       "    </tr>\n",
       "    <tr>\n",
       "      <th>Month</th>\n",
       "      <th></th>\n",
       "      <th></th>\n",
       "    </tr>\n",
       "  </thead>\n",
       "  <tbody>\n",
       "    <tr>\n",
       "      <th>1995-01-01</th>\n",
       "      <td>1995-01-01</td>\n",
       "      <td>112</td>\n",
       "    </tr>\n",
       "    <tr>\n",
       "      <th>1995-02-01</th>\n",
       "      <td>1995-02-01</td>\n",
       "      <td>118</td>\n",
       "    </tr>\n",
       "    <tr>\n",
       "      <th>1995-03-01</th>\n",
       "      <td>1995-03-01</td>\n",
       "      <td>132</td>\n",
       "    </tr>\n",
       "    <tr>\n",
       "      <th>1995-04-01</th>\n",
       "      <td>1995-04-01</td>\n",
       "      <td>129</td>\n",
       "    </tr>\n",
       "    <tr>\n",
       "      <th>1995-05-01</th>\n",
       "      <td>1995-05-01</td>\n",
       "      <td>121</td>\n",
       "    </tr>\n",
       "    <tr>\n",
       "      <th>1995-06-01</th>\n",
       "      <td>1995-06-01</td>\n",
       "      <td>135</td>\n",
       "    </tr>\n",
       "    <tr>\n",
       "      <th>1995-07-01</th>\n",
       "      <td>1995-07-01</td>\n",
       "      <td>148</td>\n",
       "    </tr>\n",
       "    <tr>\n",
       "      <th>1995-08-01</th>\n",
       "      <td>1995-08-01</td>\n",
       "      <td>148</td>\n",
       "    </tr>\n",
       "    <tr>\n",
       "      <th>1995-09-01</th>\n",
       "      <td>1995-09-01</td>\n",
       "      <td>136</td>\n",
       "    </tr>\n",
       "    <tr>\n",
       "      <th>1995-10-01</th>\n",
       "      <td>1995-10-01</td>\n",
       "      <td>119</td>\n",
       "    </tr>\n",
       "    <tr>\n",
       "      <th>1995-11-01</th>\n",
       "      <td>1995-11-01</td>\n",
       "      <td>104</td>\n",
       "    </tr>\n",
       "    <tr>\n",
       "      <th>1995-12-01</th>\n",
       "      <td>1995-12-01</td>\n",
       "      <td>118</td>\n",
       "    </tr>\n",
       "  </tbody>\n",
       "</table>\n",
       "</div>"
      ],
      "text/plain": [
       "                Month  Passengers\n",
       "Month                            \n",
       "1995-01-01 1995-01-01         112\n",
       "1995-02-01 1995-02-01         118\n",
       "1995-03-01 1995-03-01         132\n",
       "1995-04-01 1995-04-01         129\n",
       "1995-05-01 1995-05-01         121\n",
       "1995-06-01 1995-06-01         135\n",
       "1995-07-01 1995-07-01         148\n",
       "1995-08-01 1995-08-01         148\n",
       "1995-09-01 1995-09-01         136\n",
       "1995-10-01 1995-10-01         119\n",
       "1995-11-01 1995-11-01         104\n",
       "1995-12-01 1995-12-01         118"
      ]
     },
     "execution_count": 23,
     "metadata": {},
     "output_type": "execute_result"
    }
   ],
   "source": [
    "airlines.head(12)"
   ]
  },
  {
   "cell_type": "code",
   "execution_count": 24,
   "id": "cd17098f",
   "metadata": {},
   "outputs": [],
   "source": [
    "# create Date column to store the actual date format for the given month"
   ]
  },
  {
   "cell_type": "code",
   "execution_count": 25,
   "id": "f1ca60ad",
   "metadata": {},
   "outputs": [],
   "source": [
    "airlines['Date'] = pd.to_datetime(airlines.Month, format = \"%b-%y\")"
   ]
  },
  {
   "cell_type": "code",
   "execution_count": 26,
   "id": "6429d71d",
   "metadata": {},
   "outputs": [
    {
     "name": "stdout",
     "output_type": "stream",
     "text": [
      "                Month  Passengers       Date\n",
      "Month                                       \n",
      "1995-01-01 1995-01-01         112 1995-01-01\n",
      "1995-02-01 1995-02-01         118 1995-02-01\n",
      "1995-03-01 1995-03-01         132 1995-03-01\n",
      "1995-04-01 1995-04-01         129 1995-04-01\n",
      "1995-05-01 1995-05-01         121 1995-05-01\n",
      "...               ...         ...        ...\n",
      "2002-08-01 2002-08-01         405 2002-08-01\n",
      "2002-09-01 2002-09-01         355 2002-09-01\n",
      "2002-10-01 2002-10-01         306 2002-10-01\n",
      "2002-11-01 2002-11-01         271 2002-11-01\n",
      "2002-12-01 2002-12-01         306 2002-12-01\n",
      "\n",
      "[96 rows x 3 columns]\n"
     ]
    }
   ],
   "source": [
    "print(airlines)"
   ]
  },
  {
   "cell_type": "code",
   "execution_count": 27,
   "id": "ae2bef7f",
   "metadata": {},
   "outputs": [],
   "source": [
    "# Extracting Day, Weekday name, month name, year from the date column using Date functions from pandas"
   ]
  },
  {
   "cell_type": "code",
   "execution_count": 28,
   "id": "a94505c4",
   "metadata": {},
   "outputs": [],
   "source": [
    "airlines[\"month\"] = airlines.Date.dt.strftime(\"%b\")"
   ]
  },
  {
   "cell_type": "code",
   "execution_count": 29,
   "id": "e106cfb0",
   "metadata": {},
   "outputs": [
    {
     "data": {
      "text/html": [
       "<div>\n",
       "<style scoped>\n",
       "    .dataframe tbody tr th:only-of-type {\n",
       "        vertical-align: middle;\n",
       "    }\n",
       "\n",
       "    .dataframe tbody tr th {\n",
       "        vertical-align: top;\n",
       "    }\n",
       "\n",
       "    .dataframe thead th {\n",
       "        text-align: right;\n",
       "    }\n",
       "</style>\n",
       "<table border=\"1\" class=\"dataframe\">\n",
       "  <thead>\n",
       "    <tr style=\"text-align: right;\">\n",
       "      <th></th>\n",
       "      <th>Month</th>\n",
       "      <th>Passengers</th>\n",
       "      <th>Date</th>\n",
       "      <th>month</th>\n",
       "    </tr>\n",
       "    <tr>\n",
       "      <th>Month</th>\n",
       "      <th></th>\n",
       "      <th></th>\n",
       "      <th></th>\n",
       "      <th></th>\n",
       "    </tr>\n",
       "  </thead>\n",
       "  <tbody>\n",
       "    <tr>\n",
       "      <th>1995-01-01</th>\n",
       "      <td>1995-01-01</td>\n",
       "      <td>112</td>\n",
       "      <td>1995-01-01</td>\n",
       "      <td>Jan</td>\n",
       "    </tr>\n",
       "    <tr>\n",
       "      <th>1995-02-01</th>\n",
       "      <td>1995-02-01</td>\n",
       "      <td>118</td>\n",
       "      <td>1995-02-01</td>\n",
       "      <td>Feb</td>\n",
       "    </tr>\n",
       "    <tr>\n",
       "      <th>1995-03-01</th>\n",
       "      <td>1995-03-01</td>\n",
       "      <td>132</td>\n",
       "      <td>1995-03-01</td>\n",
       "      <td>Mar</td>\n",
       "    </tr>\n",
       "    <tr>\n",
       "      <th>1995-04-01</th>\n",
       "      <td>1995-04-01</td>\n",
       "      <td>129</td>\n",
       "      <td>1995-04-01</td>\n",
       "      <td>Apr</td>\n",
       "    </tr>\n",
       "    <tr>\n",
       "      <th>1995-05-01</th>\n",
       "      <td>1995-05-01</td>\n",
       "      <td>121</td>\n",
       "      <td>1995-05-01</td>\n",
       "      <td>May</td>\n",
       "    </tr>\n",
       "    <tr>\n",
       "      <th>...</th>\n",
       "      <td>...</td>\n",
       "      <td>...</td>\n",
       "      <td>...</td>\n",
       "      <td>...</td>\n",
       "    </tr>\n",
       "    <tr>\n",
       "      <th>2002-08-01</th>\n",
       "      <td>2002-08-01</td>\n",
       "      <td>405</td>\n",
       "      <td>2002-08-01</td>\n",
       "      <td>Aug</td>\n",
       "    </tr>\n",
       "    <tr>\n",
       "      <th>2002-09-01</th>\n",
       "      <td>2002-09-01</td>\n",
       "      <td>355</td>\n",
       "      <td>2002-09-01</td>\n",
       "      <td>Sep</td>\n",
       "    </tr>\n",
       "    <tr>\n",
       "      <th>2002-10-01</th>\n",
       "      <td>2002-10-01</td>\n",
       "      <td>306</td>\n",
       "      <td>2002-10-01</td>\n",
       "      <td>Oct</td>\n",
       "    </tr>\n",
       "    <tr>\n",
       "      <th>2002-11-01</th>\n",
       "      <td>2002-11-01</td>\n",
       "      <td>271</td>\n",
       "      <td>2002-11-01</td>\n",
       "      <td>Nov</td>\n",
       "    </tr>\n",
       "    <tr>\n",
       "      <th>2002-12-01</th>\n",
       "      <td>2002-12-01</td>\n",
       "      <td>306</td>\n",
       "      <td>2002-12-01</td>\n",
       "      <td>Dec</td>\n",
       "    </tr>\n",
       "  </tbody>\n",
       "</table>\n",
       "<p>96 rows × 4 columns</p>\n",
       "</div>"
      ],
      "text/plain": [
       "                Month  Passengers       Date month\n",
       "Month                                             \n",
       "1995-01-01 1995-01-01         112 1995-01-01   Jan\n",
       "1995-02-01 1995-02-01         118 1995-02-01   Feb\n",
       "1995-03-01 1995-03-01         132 1995-03-01   Mar\n",
       "1995-04-01 1995-04-01         129 1995-04-01   Apr\n",
       "1995-05-01 1995-05-01         121 1995-05-01   May\n",
       "...               ...         ...        ...   ...\n",
       "2002-08-01 2002-08-01         405 2002-08-01   Aug\n",
       "2002-09-01 2002-09-01         355 2002-09-01   Sep\n",
       "2002-10-01 2002-10-01         306 2002-10-01   Oct\n",
       "2002-11-01 2002-11-01         271 2002-11-01   Nov\n",
       "2002-12-01 2002-12-01         306 2002-12-01   Dec\n",
       "\n",
       "[96 rows x 4 columns]"
      ]
     },
     "execution_count": 29,
     "metadata": {},
     "output_type": "execute_result"
    }
   ],
   "source": [
    "airlines"
   ]
  },
  {
   "cell_type": "code",
   "execution_count": 30,
   "id": "c1372132",
   "metadata": {},
   "outputs": [],
   "source": [
    "airlines[\"year\"] = airlines.Date.dt.strftime(\"%y\")"
   ]
  },
  {
   "cell_type": "code",
   "execution_count": 31,
   "id": "38a8a075",
   "metadata": {},
   "outputs": [
    {
     "data": {
      "text/html": [
       "<div>\n",
       "<style scoped>\n",
       "    .dataframe tbody tr th:only-of-type {\n",
       "        vertical-align: middle;\n",
       "    }\n",
       "\n",
       "    .dataframe tbody tr th {\n",
       "        vertical-align: top;\n",
       "    }\n",
       "\n",
       "    .dataframe thead th {\n",
       "        text-align: right;\n",
       "    }\n",
       "</style>\n",
       "<table border=\"1\" class=\"dataframe\">\n",
       "  <thead>\n",
       "    <tr style=\"text-align: right;\">\n",
       "      <th></th>\n",
       "      <th>Month</th>\n",
       "      <th>Passengers</th>\n",
       "      <th>Date</th>\n",
       "      <th>month</th>\n",
       "      <th>year</th>\n",
       "    </tr>\n",
       "    <tr>\n",
       "      <th>Month</th>\n",
       "      <th></th>\n",
       "      <th></th>\n",
       "      <th></th>\n",
       "      <th></th>\n",
       "      <th></th>\n",
       "    </tr>\n",
       "  </thead>\n",
       "  <tbody>\n",
       "    <tr>\n",
       "      <th>1995-01-01</th>\n",
       "      <td>1995-01-01</td>\n",
       "      <td>112</td>\n",
       "      <td>1995-01-01</td>\n",
       "      <td>Jan</td>\n",
       "      <td>95</td>\n",
       "    </tr>\n",
       "    <tr>\n",
       "      <th>1995-02-01</th>\n",
       "      <td>1995-02-01</td>\n",
       "      <td>118</td>\n",
       "      <td>1995-02-01</td>\n",
       "      <td>Feb</td>\n",
       "      <td>95</td>\n",
       "    </tr>\n",
       "    <tr>\n",
       "      <th>1995-03-01</th>\n",
       "      <td>1995-03-01</td>\n",
       "      <td>132</td>\n",
       "      <td>1995-03-01</td>\n",
       "      <td>Mar</td>\n",
       "      <td>95</td>\n",
       "    </tr>\n",
       "    <tr>\n",
       "      <th>1995-04-01</th>\n",
       "      <td>1995-04-01</td>\n",
       "      <td>129</td>\n",
       "      <td>1995-04-01</td>\n",
       "      <td>Apr</td>\n",
       "      <td>95</td>\n",
       "    </tr>\n",
       "    <tr>\n",
       "      <th>1995-05-01</th>\n",
       "      <td>1995-05-01</td>\n",
       "      <td>121</td>\n",
       "      <td>1995-05-01</td>\n",
       "      <td>May</td>\n",
       "      <td>95</td>\n",
       "    </tr>\n",
       "    <tr>\n",
       "      <th>...</th>\n",
       "      <td>...</td>\n",
       "      <td>...</td>\n",
       "      <td>...</td>\n",
       "      <td>...</td>\n",
       "      <td>...</td>\n",
       "    </tr>\n",
       "    <tr>\n",
       "      <th>2002-08-01</th>\n",
       "      <td>2002-08-01</td>\n",
       "      <td>405</td>\n",
       "      <td>2002-08-01</td>\n",
       "      <td>Aug</td>\n",
       "      <td>02</td>\n",
       "    </tr>\n",
       "    <tr>\n",
       "      <th>2002-09-01</th>\n",
       "      <td>2002-09-01</td>\n",
       "      <td>355</td>\n",
       "      <td>2002-09-01</td>\n",
       "      <td>Sep</td>\n",
       "      <td>02</td>\n",
       "    </tr>\n",
       "    <tr>\n",
       "      <th>2002-10-01</th>\n",
       "      <td>2002-10-01</td>\n",
       "      <td>306</td>\n",
       "      <td>2002-10-01</td>\n",
       "      <td>Oct</td>\n",
       "      <td>02</td>\n",
       "    </tr>\n",
       "    <tr>\n",
       "      <th>2002-11-01</th>\n",
       "      <td>2002-11-01</td>\n",
       "      <td>271</td>\n",
       "      <td>2002-11-01</td>\n",
       "      <td>Nov</td>\n",
       "      <td>02</td>\n",
       "    </tr>\n",
       "    <tr>\n",
       "      <th>2002-12-01</th>\n",
       "      <td>2002-12-01</td>\n",
       "      <td>306</td>\n",
       "      <td>2002-12-01</td>\n",
       "      <td>Dec</td>\n",
       "      <td>02</td>\n",
       "    </tr>\n",
       "  </tbody>\n",
       "</table>\n",
       "<p>96 rows × 5 columns</p>\n",
       "</div>"
      ],
      "text/plain": [
       "                Month  Passengers       Date month year\n",
       "Month                                                  \n",
       "1995-01-01 1995-01-01         112 1995-01-01   Jan   95\n",
       "1995-02-01 1995-02-01         118 1995-02-01   Feb   95\n",
       "1995-03-01 1995-03-01         132 1995-03-01   Mar   95\n",
       "1995-04-01 1995-04-01         129 1995-04-01   Apr   95\n",
       "1995-05-01 1995-05-01         121 1995-05-01   May   95\n",
       "...               ...         ...        ...   ...  ...\n",
       "2002-08-01 2002-08-01         405 2002-08-01   Aug   02\n",
       "2002-09-01 2002-09-01         355 2002-09-01   Sep   02\n",
       "2002-10-01 2002-10-01         306 2002-10-01   Oct   02\n",
       "2002-11-01 2002-11-01         271 2002-11-01   Nov   02\n",
       "2002-12-01 2002-12-01         306 2002-12-01   Dec   02\n",
       "\n",
       "[96 rows x 5 columns]"
      ]
     },
     "execution_count": 31,
     "metadata": {},
     "output_type": "execute_result"
    }
   ],
   "source": [
    "airlines"
   ]
  },
  {
   "cell_type": "code",
   "execution_count": 32,
   "id": "38c975f6",
   "metadata": {},
   "outputs": [],
   "source": [
    "# Heat map visulization"
   ]
  },
  {
   "cell_type": "code",
   "execution_count": 33,
   "id": "63c611b8",
   "metadata": {},
   "outputs": [],
   "source": [
    "heatmap_year_month = pd.pivot_table(data=airlines, values=\"Passengers\",index = \"year\", columns= \"month\",aggfunc = \"mean\", fill_value=0)"
   ]
  },
  {
   "cell_type": "code",
   "execution_count": 34,
   "id": "993a7eab",
   "metadata": {},
   "outputs": [
    {
     "data": {
      "text/plain": [
       "<AxesSubplot:xlabel='month', ylabel='year'>"
      ]
     },
     "execution_count": 34,
     "metadata": {},
     "output_type": "execute_result"
    },
    {
     "data": {
      "image/png": "[encoded data removed]",
      "text/plain": [
       "<Figure size 432x288 with 2 Axes>"
      ]
     },
     "metadata": {
      "needs_background": "light"
     },
     "output_type": "display_data"
    }
   ],
   "source": [
    "sns.heatmap(heatmap_year_month,annot=True,fmt=\"g\")## cheking for heat map"
   ]
  },
  {
   "cell_type": "code",
   "execution_count": 35,
   "id": "2a4e1a67",
   "metadata": {},
   "outputs": [],
   "source": [
    "# Boxplot for all the data"
   ]
  },
  {
   "cell_type": "code",
   "execution_count": 36,
   "id": "7f84a029",
   "metadata": {},
   "outputs": [
    {
     "data": {
      "text/plain": [
       "<AxesSubplot:xlabel='month', ylabel='Passengers'>"
      ]
     },
     "execution_count": 36,
     "metadata": {},
     "output_type": "execute_result"
    },
    {
     "data": {
      "image/png": "[encoded data removed]",
      "text/plain": [
       "<Figure size 432x288 with 1 Axes>"
      ]
     },
     "metadata": {
      "needs_background": "light"
     },
     "output_type": "display_data"
    }
   ],
   "source": [
    "sns.boxplot(x=\"month\",y=\"Passengers\",data=airlines)"
   ]
  },
  {
   "cell_type": "code",
   "execution_count": 37,
   "id": "299033e3",
   "metadata": {},
   "outputs": [
    {
     "data": {
      "text/plain": [
       "<AxesSubplot:xlabel='year', ylabel='Passengers'>"
      ]
     },
     "execution_count": 37,
     "metadata": {},
     "output_type": "execute_result"
    },
    {
     "data": {
      "image/png": "[encoded data removed]",
      "text/plain": [
       "<Figure size 432x288 with 1 Axes>"
      ]
     },
     "metadata": {
      "needs_background": "light"
     },
     "output_type": "display_data"
    }
   ],
   "source": [
    "sns.boxplot(x=\"year\",y = \"Passengers\",data=airlines)"
   ]
  },
  {
   "cell_type": "code",
   "execution_count": 38,
   "id": "50d6cc49",
   "metadata": {},
   "outputs": [],
   "source": [
    "# Line plot for plane passengers based on year and for each month"
   ]
  },
  {
   "cell_type": "code",
   "execution_count": 39,
   "id": "54fc33dc",
   "metadata": {},
   "outputs": [
    {
     "data": {
      "text/plain": [
       "<AxesSubplot:xlabel='year', ylabel='Passengers'>"
      ]
     },
     "execution_count": 39,
     "metadata": {},
     "output_type": "execute_result"
    },
    {
     "data": {
      "image/png": "[encoded data removed]",
      "text/plain": [
       "<Figure size 432x288 with 1 Axes>"
      ]
     },
     "metadata": {
      "needs_background": "light"
     },
     "output_type": "display_data"
    }
   ],
   "source": [
    "sns.lineplot(x=\"year\",y=\"Passengers\",hue = \"month\",data=airlines)"
   ]
  },
  {
   "cell_type": "code",
   "execution_count": 40,
   "id": "d3473fb8",
   "metadata": {},
   "outputs": [],
   "source": [
    "# Lets see the moving average for the time series to understand better about the trend character in airlines"
   ]
  },
  {
   "cell_type": "code",
   "execution_count": 41,
   "id": "993ac39c",
   "metadata": {},
   "outputs": [
    {
     "data": {
      "text/plain": [
       "<AxesSubplot:xlabel='Month'>"
      ]
     },
     "execution_count": 41,
     "metadata": {},
     "output_type": "execute_result"
    },
    {
     "data": {
      "image/png": "[encoded data removed]",
      "text/plain": [
       "<Figure size 432x288 with 1 Axes>"
      ]
     },
     "metadata": {
      "needs_background": "light"
     },
     "output_type": "display_data"
    }
   ],
   "source": [
    "airlines.Passengers.plot(label=\"org\")"
   ]
  },
  {
   "cell_type": "code",
   "execution_count": 42,
   "id": "f4726d92",
   "metadata": {},
   "outputs": [
    {
     "data": {
      "text/plain": [
       "<matplotlib.legend.Legend at 0x14a363318b0>"
      ]
     },
     "execution_count": 42,
     "metadata": {},
     "output_type": "execute_result"
    },
    {
     "data": {
      "image/png": "[encoded data removed]",
      "text/plain": [
       "<Figure size 432x288 with 1 Axes>"
      ]
     },
     "metadata": {
      "needs_background": "light"
     },
     "output_type": "display_data"
    }
   ],
   "source": [
    "for i in range(2,24,6):\n",
    "  airlines[\"Passengers\"].rolling(i).mean().plot(label=str(i))\n",
    "plt.legend(loc=3)"
   ]
  },
  {
   "cell_type": "code",
   "execution_count": 43,
   "id": "277e7ae3",
   "metadata": {},
   "outputs": [],
   "source": [
    "##time composition plotting asp er the below"
   ]
  },
  {
   "cell_type": "code",
   "execution_count": 44,
   "id": "71795ee9",
   "metadata": {},
   "outputs": [],
   "source": [
    "decompose_ts_add = seasonal_decompose(airlines.Passengers,model=\"additive\")"
   ]
  },
  {
   "cell_type": "code",
   "execution_count": 45,
   "id": "585b6964",
   "metadata": {},
   "outputs": [
    {
     "data": {
      "image/png": "[encoded data removed]",
      "text/plain": [
       "<Figure size 432x288 with 4 Axes>"
      ]
     },
     "execution_count": 45,
     "metadata": {},
     "output_type": "execute_result"
    },
    {
     "data": {
      "image/png": "[encoded data removed]",
      "text/plain": [
       "<Figure size 432x288 with 4 Axes>"
      ]
     },
     "metadata": {
      "needs_background": "light"
     },
     "output_type": "display_data"
    }
   ],
   "source": [
    "decompose_ts_add.plot()"
   ]
  },
  {
   "cell_type": "code",
   "execution_count": 46,
   "id": "6000fcd1",
   "metadata": {},
   "outputs": [],
   "source": [
    "# Decomposition plot for multiplicative seasonality"
   ]
  },
  {
   "cell_type": "code",
   "execution_count": 47,
   "id": "ed6f267d",
   "metadata": {},
   "outputs": [],
   "source": [
    "decompose_ts_mul = seasonal_decompose(airlines.Passengers,model = \"multiplicative\")"
   ]
  },
  {
   "cell_type": "code",
   "execution_count": 48,
   "id": "4b7bc8be",
   "metadata": {},
   "outputs": [
    {
     "data": {
      "image/png": "[encoded data removed]",
      "text/plain": [
       "<Figure size 432x288 with 4 Axes>"
      ]
     },
     "execution_count": 48,
     "metadata": {},
     "output_type": "execute_result"
    },
    {
     "data": {
      "image/png": "[encoded data removed]",
      "text/plain": [
       "<Figure size 432x288 with 4 Axes>"
      ]
     },
     "metadata": {
      "needs_background": "light"
     },
     "output_type": "display_data"
    }
   ],
   "source": [
    "decompose_ts_mul.plot()"
   ]
  },
  {
   "cell_type": "code",
   "execution_count": 49,
   "id": "f73b3bed",
   "metadata": {},
   "outputs": [],
   "source": [
    "# ACF plots and PACF plots on the original data sets"
   ]
  },
  {
   "cell_type": "code",
   "execution_count": 50,
   "id": "0067e685",
   "metadata": {},
   "outputs": [],
   "source": [
    "# ACF plot"
   ]
  },
  {
   "cell_type": "code",
   "execution_count": 51,
   "id": "f3fb3b32",
   "metadata": {},
   "outputs": [
    {
     "data": {
      "image/png": "[encoded data removed]",
      "text/plain": [
       "<Figure size 432x288 with 1 Axes>"
      ]
     },
     "execution_count": 51,
     "metadata": {},
     "output_type": "execute_result"
    },
    {
     "data": {
      "image/png": "[encoded data removed]",
      "text/plain": [
       "<Figure size 432x288 with 1 Axes>"
      ]
     },
     "metadata": {
      "needs_background": "light"
     },
     "output_type": "display_data"
    }
   ],
   "source": [
    "tsa_plots.plot_acf(airlines.Passengers,lags=10)## Autocorrelation plotting"
   ]
  },
  {
   "cell_type": "code",
   "execution_count": 52,
   "id": "87531ba3",
   "metadata": {},
   "outputs": [],
   "source": [
    "# PACF plot"
   ]
  },
  {
   "cell_type": "code",
   "execution_count": 53,
   "id": "9df30580",
   "metadata": {},
   "outputs": [
    {
     "data": {
      "image/png": "[encoded data removed]",
      "text/plain": [
       "<Figure size 432x288 with 1 Axes>"
      ]
     },
     "execution_count": 53,
     "metadata": {},
     "output_type": "execute_result"
    },
    {
     "data": {
      "image/png": "[encoded data removed]",
      "text/plain": [
       "<Figure size 432x288 with 1 Axes>"
      ]
     },
     "metadata": {
      "needs_background": "light"
     },
     "output_type": "display_data"
    }
   ],
   "source": [
    "tsa_plots.plot_pacf(airlines.Passengers)##partial autocorrelation"
   ]
  },
  {
   "cell_type": "code",
   "execution_count": 54,
   "id": "a1a48bba",
   "metadata": {},
   "outputs": [
    {
     "data": {
      "text/plain": [
       "96"
      ]
     },
     "execution_count": 54,
     "metadata": {},
     "output_type": "execute_result"
    }
   ],
   "source": [
    "len(airlines)"
   ]
  },
  {
   "cell_type": "code",
   "execution_count": 55,
   "id": "f3ddbac2",
   "metadata": {},
   "outputs": [],
   "source": [
    "train = airlines.head(84)"
   ]
  },
  {
   "cell_type": "code",
   "execution_count": 56,
   "id": "eec3a671",
   "metadata": {},
   "outputs": [],
   "source": [
    "test = airlines.tail(12)"
   ]
  },
  {
   "cell_type": "code",
   "execution_count": 57,
   "id": "ce839160",
   "metadata": {},
   "outputs": [
    {
     "data": {
      "text/plain": [
       "(                Month  Passengers       Date month year\n",
       " Month                                                  \n",
       " 2002-01-01 2002-01-01         284 2002-01-01   Jan   02\n",
       " 2002-02-01 2002-02-01         277 2002-02-01   Feb   02\n",
       " 2002-03-01 2002-03-01         317 2002-03-01   Mar   02\n",
       " 2002-04-01 2002-04-01         313 2002-04-01   Apr   02\n",
       " 2002-05-01 2002-05-01         318 2002-05-01   May   02\n",
       " 2002-06-01 2002-06-01         374 2002-06-01   Jun   02\n",
       " 2002-07-01 2002-07-01         413 2002-07-01   Jul   02\n",
       " 2002-08-01 2002-08-01         405 2002-08-01   Aug   02\n",
       " 2002-09-01 2002-09-01         355 2002-09-01   Sep   02\n",
       " 2002-10-01 2002-10-01         306 2002-10-01   Oct   02\n",
       " 2002-11-01 2002-11-01         271 2002-11-01   Nov   02\n",
       " 2002-12-01 2002-12-01         306 2002-12-01   Dec   02,\n",
       "                 Month  Passengers       Date month year\n",
       " Month                                                  \n",
       " 1995-01-01 1995-01-01         112 1995-01-01   Jan   95\n",
       " 1995-02-01 1995-02-01         118 1995-02-01   Feb   95\n",
       " 1995-03-01 1995-03-01         132 1995-03-01   Mar   95\n",
       " 1995-04-01 1995-04-01         129 1995-04-01   Apr   95\n",
       " 1995-05-01 1995-05-01         121 1995-05-01   May   95\n",
       " ...               ...         ...        ...   ...  ...\n",
       " 2001-08-01 2001-08-01         347 2001-08-01   Aug   01\n",
       " 2001-09-01 2001-09-01         312 2001-09-01   Sep   01\n",
       " 2001-10-01 2001-10-01         274 2001-10-01   Oct   01\n",
       " 2001-11-01 2001-11-01         237 2001-11-01   Nov   01\n",
       " 2001-12-01 2001-12-01         278 2001-12-01   Dec   01\n",
       " \n",
       " [84 rows x 5 columns])"
      ]
     },
     "execution_count": 57,
     "metadata": {},
     "output_type": "execute_result"
    }
   ],
   "source": [
    "test,train"
   ]
  },
  {
   "cell_type": "code",
   "execution_count": 58,
   "id": "c721cd88",
   "metadata": {},
   "outputs": [
    {
     "data": {
      "text/html": [
       "<div>\n",
       "<style scoped>\n",
       "    .dataframe tbody tr th:only-of-type {\n",
       "        vertical-align: middle;\n",
       "    }\n",
       "\n",
       "    .dataframe tbody tr th {\n",
       "        vertical-align: top;\n",
       "    }\n",
       "\n",
       "    .dataframe thead th {\n",
       "        text-align: right;\n",
       "    }\n",
       "</style>\n",
       "<table border=\"1\" class=\"dataframe\">\n",
       "  <thead>\n",
       "    <tr style=\"text-align: right;\">\n",
       "      <th></th>\n",
       "      <th>Month</th>\n",
       "      <th>Passengers</th>\n",
       "      <th>Date</th>\n",
       "      <th>month</th>\n",
       "      <th>year</th>\n",
       "    </tr>\n",
       "    <tr>\n",
       "      <th>Month</th>\n",
       "      <th></th>\n",
       "      <th></th>\n",
       "      <th></th>\n",
       "      <th></th>\n",
       "      <th></th>\n",
       "    </tr>\n",
       "  </thead>\n",
       "  <tbody>\n",
       "    <tr>\n",
       "      <th>2002-01-01</th>\n",
       "      <td>2002-01-01</td>\n",
       "      <td>284</td>\n",
       "      <td>2002-01-01</td>\n",
       "      <td>Jan</td>\n",
       "      <td>02</td>\n",
       "    </tr>\n",
       "    <tr>\n",
       "      <th>2002-02-01</th>\n",
       "      <td>2002-02-01</td>\n",
       "      <td>277</td>\n",
       "      <td>2002-02-01</td>\n",
       "      <td>Feb</td>\n",
       "      <td>02</td>\n",
       "    </tr>\n",
       "    <tr>\n",
       "      <th>2002-03-01</th>\n",
       "      <td>2002-03-01</td>\n",
       "      <td>317</td>\n",
       "      <td>2002-03-01</td>\n",
       "      <td>Mar</td>\n",
       "      <td>02</td>\n",
       "    </tr>\n",
       "    <tr>\n",
       "      <th>2002-04-01</th>\n",
       "      <td>2002-04-01</td>\n",
       "      <td>313</td>\n",
       "      <td>2002-04-01</td>\n",
       "      <td>Apr</td>\n",
       "      <td>02</td>\n",
       "    </tr>\n",
       "    <tr>\n",
       "      <th>2002-05-01</th>\n",
       "      <td>2002-05-01</td>\n",
       "      <td>318</td>\n",
       "      <td>2002-05-01</td>\n",
       "      <td>May</td>\n",
       "      <td>02</td>\n",
       "    </tr>\n",
       "    <tr>\n",
       "      <th>2002-06-01</th>\n",
       "      <td>2002-06-01</td>\n",
       "      <td>374</td>\n",
       "      <td>2002-06-01</td>\n",
       "      <td>Jun</td>\n",
       "      <td>02</td>\n",
       "    </tr>\n",
       "    <tr>\n",
       "      <th>2002-07-01</th>\n",
       "      <td>2002-07-01</td>\n",
       "      <td>413</td>\n",
       "      <td>2002-07-01</td>\n",
       "      <td>Jul</td>\n",
       "      <td>02</td>\n",
       "    </tr>\n",
       "    <tr>\n",
       "      <th>2002-08-01</th>\n",
       "      <td>2002-08-01</td>\n",
       "      <td>405</td>\n",
       "      <td>2002-08-01</td>\n",
       "      <td>Aug</td>\n",
       "      <td>02</td>\n",
       "    </tr>\n",
       "    <tr>\n",
       "      <th>2002-09-01</th>\n",
       "      <td>2002-09-01</td>\n",
       "      <td>355</td>\n",
       "      <td>2002-09-01</td>\n",
       "      <td>Sep</td>\n",
       "      <td>02</td>\n",
       "    </tr>\n",
       "    <tr>\n",
       "      <th>2002-10-01</th>\n",
       "      <td>2002-10-01</td>\n",
       "      <td>306</td>\n",
       "      <td>2002-10-01</td>\n",
       "      <td>Oct</td>\n",
       "      <td>02</td>\n",
       "    </tr>\n",
       "    <tr>\n",
       "      <th>2002-11-01</th>\n",
       "      <td>2002-11-01</td>\n",
       "      <td>271</td>\n",
       "      <td>2002-11-01</td>\n",
       "      <td>Nov</td>\n",
       "      <td>02</td>\n",
       "    </tr>\n",
       "    <tr>\n",
       "      <th>2002-12-01</th>\n",
       "      <td>2002-12-01</td>\n",
       "      <td>306</td>\n",
       "      <td>2002-12-01</td>\n",
       "      <td>Dec</td>\n",
       "      <td>02</td>\n",
       "    </tr>\n",
       "  </tbody>\n",
       "</table>\n",
       "</div>"
      ],
      "text/plain": [
       "                Month  Passengers       Date month year\n",
       "Month                                                  \n",
       "2002-01-01 2002-01-01         284 2002-01-01   Jan   02\n",
       "2002-02-01 2002-02-01         277 2002-02-01   Feb   02\n",
       "2002-03-01 2002-03-01         317 2002-03-01   Mar   02\n",
       "2002-04-01 2002-04-01         313 2002-04-01   Apr   02\n",
       "2002-05-01 2002-05-01         318 2002-05-01   May   02\n",
       "2002-06-01 2002-06-01         374 2002-06-01   Jun   02\n",
       "2002-07-01 2002-07-01         413 2002-07-01   Jul   02\n",
       "2002-08-01 2002-08-01         405 2002-08-01   Aug   02\n",
       "2002-09-01 2002-09-01         355 2002-09-01   Sep   02\n",
       "2002-10-01 2002-10-01         306 2002-10-01   Oct   02\n",
       "2002-11-01 2002-11-01         271 2002-11-01   Nov   02\n",
       "2002-12-01 2002-12-01         306 2002-12-01   Dec   02"
      ]
     },
     "execution_count": 58,
     "metadata": {},
     "output_type": "execute_result"
    }
   ],
   "source": [
    "test"
   ]
  },
  {
   "cell_type": "code",
   "execution_count": 59,
   "id": "2dc4edd9",
   "metadata": {},
   "outputs": [],
   "source": [
    "def MAPE(pred,org):\n",
    "  temp = np.abs((pred-org))*100/org\n",
    "  return np.mean(temp)"
   ]
  },
  {
   "cell_type": "code",
   "execution_count": 60,
   "id": "534995e2",
   "metadata": {},
   "outputs": [],
   "source": [
    "# Simple Exponential Method"
   ]
  },
  {
   "cell_type": "code",
   "execution_count": 61,
   "id": "d290afe4",
   "metadata": {},
   "outputs": [
    {
     "name": "stderr",
     "output_type": "stream",
     "text": [
      "C:\\Users\\hp\\anaconda3\\lib\\site-packages\\statsmodels\\tsa\\base\\tsa_model.py:524: ValueWarning: No frequency information was provided, so inferred frequency MS will be used.\n",
      "  warnings.warn('No frequency information was'\n",
      "C:\\Users\\hp\\anaconda3\\lib\\site-packages\\statsmodels\\tsa\\holtwinters\\model.py:427: FutureWarning: After 0.13 initialization must be handled at model creation\n",
      "  warnings.warn(\n"
     ]
    }
   ],
   "source": [
    "ses_model = SimpleExpSmoothing(train[\"Passengers\"]).fit()"
   ]
  },
  {
   "cell_type": "code",
   "execution_count": 62,
   "id": "8c3c319e",
   "metadata": {},
   "outputs": [],
   "source": [
    "pred_ses = ses_model.predict(start = test.index[0],end = test.index[-1])"
   ]
  },
  {
   "cell_type": "code",
   "execution_count": 63,
   "id": "28a71d0a",
   "metadata": {},
   "outputs": [],
   "source": [
    "mape_ses = MAPE(pred_ses,test.Passengers)"
   ]
  },
  {
   "cell_type": "code",
   "execution_count": 64,
   "id": "c55e943e",
   "metadata": {},
   "outputs": [
    {
     "name": "stdout",
     "output_type": "stream",
     "text": [
      "14.23543315462988\n"
     ]
    }
   ],
   "source": [
    "print(MAPE(pred_ses,test.Passengers))"
   ]
  },
  {
   "cell_type": "code",
   "execution_count": 65,
   "id": "96e04882",
   "metadata": {},
   "outputs": [],
   "source": [
    "# Holt method"
   ]
  },
  {
   "cell_type": "code",
   "execution_count": 66,
   "id": "1b7ba00b",
   "metadata": {},
   "outputs": [
    {
     "name": "stderr",
     "output_type": "stream",
     "text": [
      "C:\\Users\\hp\\anaconda3\\lib\\site-packages\\statsmodels\\tsa\\base\\tsa_model.py:524: ValueWarning: No frequency information was provided, so inferred frequency MS will be used.\n",
      "  warnings.warn('No frequency information was'\n"
     ]
    }
   ],
   "source": [
    "hw_model = Holt(train[\"Passengers\"]).fit()"
   ]
  },
  {
   "cell_type": "code",
   "execution_count": 67,
   "id": "939f34a3",
   "metadata": {},
   "outputs": [],
   "source": [
    "pred_hw = hw_model.predict(start = test.index[0],end = test.index[-1])"
   ]
  },
  {
   "cell_type": "code",
   "execution_count": 68,
   "id": "8b43bb60",
   "metadata": {},
   "outputs": [],
   "source": [
    "mape_hw = MAPE(pred_hw,test.Passengers)"
   ]
  },
  {
   "cell_type": "code",
   "execution_count": 69,
   "id": "e074a8cd",
   "metadata": {},
   "outputs": [
    {
     "name": "stdout",
     "output_type": "stream",
     "text": [
      "11.885522842737595\n"
     ]
    }
   ],
   "source": [
    "print(MAPE(pred_hw,test.Passengers))"
   ]
  },
  {
   "cell_type": "code",
   "execution_count": 70,
   "id": "147fef11",
   "metadata": {},
   "outputs": [],
   "source": [
    "# Holts winter exponential smoothing with additive seasonality and additive trend"
   ]
  },
  {
   "cell_type": "code",
   "execution_count": 71,
   "id": "0e5d91c0",
   "metadata": {},
   "outputs": [
    {
     "name": "stderr",
     "output_type": "stream",
     "text": [
      "<ipython-input-71-5b526a75ae76>:1: FutureWarning: the 'damped'' keyword is deprecated, use 'damped_trend' instead\n",
      "  hwe_model_add_add = ExponentialSmoothing(train[\"Passengers\"],seasonal = \"add\",trend = \"add\", seasonal_periods = 12, damped = True).fit()\n",
      "C:\\Users\\hp\\anaconda3\\lib\\site-packages\\statsmodels\\tsa\\base\\tsa_model.py:524: ValueWarning: No frequency information was provided, so inferred frequency MS will be used.\n",
      "  warnings.warn('No frequency information was'\n"
     ]
    }
   ],
   "source": [
    "hwe_model_add_add = ExponentialSmoothing(train[\"Passengers\"],seasonal = \"add\",trend = \"add\", seasonal_periods = 12, damped = True).fit()"
   ]
  },
  {
   "cell_type": "code",
   "execution_count": 72,
   "id": "51f40bd9",
   "metadata": {},
   "outputs": [],
   "source": [
    "pred_hwe_add_add = hwe_model_add_add.predict(start = test.index[0],end = test.index[-1])"
   ]
  },
  {
   "cell_type": "code",
   "execution_count": 73,
   "id": "af852c7c",
   "metadata": {},
   "outputs": [],
   "source": [
    "mape_hwe_add_add = MAPE(pred_hwe_add_add,test.Passengers)"
   ]
  },
  {
   "cell_type": "code",
   "execution_count": 74,
   "id": "a8a72e4e",
   "metadata": {},
   "outputs": [
    {
     "name": "stdout",
     "output_type": "stream",
     "text": [
      "3.9136743689273406\n"
     ]
    }
   ],
   "source": [
    "print(MAPE(pred_hwe_add_add,test.Passengers))"
   ]
  },
  {
   "cell_type": "code",
   "execution_count": 75,
   "id": "363b079b",
   "metadata": {},
   "outputs": [],
   "source": [
    "# Holts winter exponential smoothing with miltiplicative seasonality and additive trend"
   ]
  },
  {
   "cell_type": "code",
   "execution_count": 76,
   "id": "7257f812",
   "metadata": {},
   "outputs": [
    {
     "name": "stderr",
     "output_type": "stream",
     "text": [
      "C:\\Users\\hp\\anaconda3\\lib\\site-packages\\statsmodels\\tsa\\base\\tsa_model.py:524: ValueWarning: No frequency information was provided, so inferred frequency MS will be used.\n",
      "  warnings.warn('No frequency information was'\n"
     ]
    }
   ],
   "source": [
    "hwe_model_mul_add = ExponentialSmoothing(train[\"Passengers\"],seasonal=\"mul\",trend=\"add\",seasonal_periods = 12).fit()"
   ]
  },
  {
   "cell_type": "code",
   "execution_count": 77,
   "id": "ad8593ab",
   "metadata": {},
   "outputs": [],
   "source": [
    "pred_hwe_mul_add = hwe_model_mul_add.predict(start = test.index[0],end = test.index[-1])"
   ]
  },
  {
   "cell_type": "code",
   "execution_count": 78,
   "id": "67df8ec6",
   "metadata": {},
   "outputs": [],
   "source": [
    "mape_hwe_mul_add = MAPE(pred_hwe_mul_add,test.Passengers)"
   ]
  },
  {
   "cell_type": "code",
   "execution_count": 79,
   "id": "c581a3eb",
   "metadata": {},
   "outputs": [
    {
     "data": {
      "text/plain": [
       "2.820719538812041"
      ]
     },
     "execution_count": 79,
     "metadata": {},
     "output_type": "execute_result"
    }
   ],
   "source": [
    "MAPE(pred_hwe_mul_add,test.Passengers)"
   ]
  },
  {
   "cell_type": "code",
   "execution_count": 81,
   "id": "7e1aacc5",
   "metadata": {},
   "outputs": [
    {
     "name": "stdout",
     "output_type": "stream",
     "text": [
      "Requirement already satisfied: pmdarima in c:\\users\\hp\\anaconda3\\lib\\site-packages (1.8.3)\n",
      "Requirement already satisfied: scipy>=1.3.2 in c:\\users\\hp\\anaconda3\\lib\\site-packages (from pmdarima) (1.6.2)\n",
      "Requirement already satisfied: pandas>=0.19 in c:\\users\\hp\\anaconda3\\lib\\site-packages (from pmdarima) (1.2.4)\n",
      "Requirement already satisfied: scikit-learn>=0.22 in c:\\users\\hp\\anaconda3\\lib\\site-packages (from pmdarima) (0.24.1)\n",
      "Requirement already satisfied: Cython!=0.29.18,>=0.29 in c:\\users\\hp\\anaconda3\\lib\\site-packages (from pmdarima) (0.29.23)\n",
      "Requirement already satisfied: urllib3 in c:\\users\\hp\\anaconda3\\lib\\site-packages (from pmdarima) (1.26.4)\n",
      "Requirement already satisfied: statsmodels!=0.12.0,>=0.11 in c:\\users\\hp\\anaconda3\\lib\\site-packages (from pmdarima) (0.12.2)\n",
      "Requirement already satisfied: numpy>=1.19.3 in c:\\users\\hp\\anaconda3\\lib\\site-packages (from pmdarima) (1.20.1)\n",
      "Requirement already satisfied: joblib>=0.11 in c:\\users\\hp\\anaconda3\\lib\\site-packages (from pmdarima) (1.0.1)\n",
      "Requirement already satisfied: setuptools!=50.0.0,>=38.6.0 in c:\\users\\hp\\anaconda3\\lib\\site-packages (from pmdarima) (52.0.0.post20210125)\n",
      "Requirement already satisfied: pytz>=2017.3 in c:\\users\\hp\\anaconda3\\lib\\site-packages (from pandas>=0.19->pmdarima) (2021.1)\n",
      "Requirement already satisfied: python-dateutil>=2.7.3 in c:\\users\\hp\\anaconda3\\lib\\site-packages (from pandas>=0.19->pmdarima) (2.8.1)\n",
      "Requirement already satisfied: six>=1.5 in c:\\users\\hp\\anaconda3\\lib\\site-packages (from python-dateutil>=2.7.3->pandas>=0.19->pmdarima) (1.15.0)\n",
      "Requirement already satisfied: threadpoolctl>=2.0.0 in c:\\users\\hp\\anaconda3\\lib\\site-packages (from scikit-learn>=0.22->pmdarima) (2.1.0)\n",
      "Requirement already satisfied: patsy>=0.5 in c:\\users\\hp\\anaconda3\\lib\\site-packages (from statsmodels!=0.12.0,>=0.11->pmdarima) (0.5.1)\n"
     ]
    }
   ],
   "source": [
    "!pip install pmdarima"
   ]
  },
  {
   "cell_type": "code",
   "execution_count": 84,
   "id": "fa6c3737",
   "metadata": {},
   "outputs": [
    {
     "name": "stdout",
     "output_type": "stream",
     "text": [
      "Requirement already satisfied: pmdarima in c:\\users\\hp\\anaconda3\\lib\\site-packages (1.8.3)\n",
      "Requirement already satisfied: scikit-learn>=0.22 in c:\\users\\hp\\anaconda3\\lib\\site-packages (from pmdarima) (0.24.1)\n",
      "Requirement already satisfied: pandas>=0.19 in c:\\users\\hp\\anaconda3\\lib\\site-packages (from pmdarima) (1.2.4)\n",
      "Requirement already satisfied: statsmodels!=0.12.0,>=0.11 in c:\\users\\hp\\anaconda3\\lib\\site-packages (from pmdarima) (0.12.2)\n",
      "Requirement already satisfied: urllib3 in c:\\users\\hp\\anaconda3\\lib\\site-packages (from pmdarima) (1.26.4)\n",
      "Requirement already satisfied: scipy>=1.3.2 in c:\\users\\hp\\anaconda3\\lib\\site-packages (from pmdarima) (1.6.2)\n",
      "Requirement already satisfied: numpy>=1.19.3 in c:\\users\\hp\\anaconda3\\lib\\site-packages (from pmdarima) (1.20.1)\n",
      "Requirement already satisfied: setuptools!=50.0.0,>=38.6.0 in c:\\users\\hp\\anaconda3\\lib\\site-packages (from pmdarima) (52.0.0.post20210125)\n",
      "Requirement already satisfied: Cython!=0.29.18,>=0.29 in c:\\users\\hp\\anaconda3\\lib\\site-packages (from pmdarima) (0.29.23)\n",
      "Requirement already satisfied: joblib>=0.11 in c:\\users\\hp\\anaconda3\\lib\\site-packages (from pmdarima) (1.0.1)\n",
      "Requirement already satisfied: python-dateutil>=2.7.3 in c:\\users\\hp\\anaconda3\\lib\\site-packages (from pandas>=0.19->pmdarima) (2.8.1)\n",
      "Requirement already satisfied: pytz>=2017.3 in c:\\users\\hp\\anaconda3\\lib\\site-packages (from pandas>=0.19->pmdarima) (2021.1)\n",
      "Requirement already satisfied: six>=1.5 in c:\\users\\hp\\anaconda3\\lib\\site-packages (from python-dateutil>=2.7.3->pandas>=0.19->pmdarima) (1.15.0)\n",
      "Requirement already satisfied: threadpoolctl>=2.0.0 in c:\\users\\hp\\anaconda3\\lib\\site-packages (from scikit-learn>=0.22->pmdarima) (2.1.0)\n",
      "Requirement already satisfied: patsy>=0.5 in c:\\users\\hp\\anaconda3\\lib\\site-packages (from statsmodels!=0.12.0,>=0.11->pmdarima) (0.5.1)\n"
     ]
    }
   ],
   "source": [
    "!pip install pmdarima"
   ]
  },
  {
   "cell_type": "code",
   "execution_count": 82,
   "id": "d159fd22",
   "metadata": {},
   "outputs": [],
   "source": [
    "# Let's use auto_arima and install the packages for the same"
   ]
  },
  {
   "cell_type": "code",
   "execution_count": 83,
   "id": "4e26451b",
   "metadata": {},
   "outputs": [],
   "source": [
    "import pmdarima as pm"
   ]
  },
  {
   "cell_type": "code",
   "execution_count": 85,
   "id": "6b4f6098",
   "metadata": {},
   "outputs": [],
   "source": [
    "from pmdarima import model_selection"
   ]
  },
  {
   "cell_type": "code",
   "execution_count": 86,
   "id": "b5d4ecc1",
   "metadata": {},
   "outputs": [
    {
     "name": "stdout",
     "output_type": "stream",
     "text": [
      " ARIMA(0,1,0)(0,1,0)[12]             : AIC=536.198, Time=3.43 sec\n",
      " ARIMA(0,1,0)(0,1,1)[12]             : AIC=533.081, Time=0.82 sec\n",
      " ARIMA(0,1,0)(0,1,2)[12]             : AIC=534.832, Time=0.84 sec\n",
      " ARIMA(0,1,0)(1,1,0)[12]             : AIC=533.128, Time=0.57 sec\n",
      " ARIMA(0,1,0)(1,1,1)[12]             : AIC=534.950, Time=0.26 sec\n",
      " ARIMA(0,1,0)(1,1,2)[12]             : AIC=inf, Time=2.62 sec\n",
      " ARIMA(0,1,0)(2,1,0)[12]             : AIC=534.789, Time=0.28 sec\n",
      " ARIMA(0,1,0)(2,1,1)[12]             : AIC=inf, Time=1.66 sec\n",
      " ARIMA(0,1,0)(2,1,2)[12]             : AIC=inf, Time=2.23 sec\n",
      " ARIMA(0,1,1)(0,1,0)[12]             : AIC=533.591, Time=0.09 sec\n",
      " ARIMA(0,1,1)(0,1,1)[12]             : AIC=531.484, Time=0.22 sec\n",
      " ARIMA(0,1,1)(0,1,2)[12]             : AIC=532.519, Time=0.55 sec\n",
      " ARIMA(0,1,1)(1,1,0)[12]             : AIC=531.004, Time=0.14 sec\n",
      " ARIMA(0,1,1)(1,1,1)[12]             : AIC=533.002, Time=0.28 sec\n",
      " ARIMA(0,1,1)(1,1,2)[12]             : AIC=inf, Time=3.31 sec\n",
      " ARIMA(0,1,1)(2,1,0)[12]             : AIC=533.000, Time=0.39 sec\n",
      " ARIMA(0,1,1)(2,1,1)[12]             : AIC=inf, Time=2.18 sec\n",
      " ARIMA(0,1,1)(2,1,2)[12]             : AIC=inf, Time=2.79 sec\n",
      " ARIMA(0,1,2)(0,1,0)[12]             : AIC=535.428, Time=0.36 sec\n",
      " ARIMA(0,1,2)(0,1,1)[12]             : AIC=533.336, Time=0.33 sec\n",
      " ARIMA(0,1,2)(0,1,2)[12]             : AIC=534.330, Time=0.64 sec\n",
      " ARIMA(0,1,2)(1,1,0)[12]             : AIC=532.835, Time=0.19 sec\n",
      " ARIMA(0,1,2)(1,1,1)[12]             : AIC=534.831, Time=0.41 sec\n",
      " ARIMA(0,1,2)(1,1,2)[12]             : AIC=inf, Time=2.83 sec\n",
      " ARIMA(0,1,2)(2,1,0)[12]             : AIC=534.826, Time=0.51 sec\n",
      " ARIMA(0,1,2)(2,1,1)[12]             : AIC=inf, Time=2.73 sec\n",
      " ARIMA(0,1,3)(0,1,0)[12]             : AIC=531.921, Time=0.24 sec\n",
      " ARIMA(0,1,3)(0,1,1)[12]             : AIC=530.892, Time=0.43 sec\n",
      " ARIMA(0,1,3)(0,1,2)[12]             : AIC=532.215, Time=0.95 sec\n",
      " ARIMA(0,1,3)(1,1,0)[12]             : AIC=530.476, Time=0.29 sec\n",
      " ARIMA(0,1,3)(1,1,1)[12]             : AIC=532.410, Time=0.81 sec\n",
      " ARIMA(0,1,3)(2,1,0)[12]             : AIC=532.372, Time=0.65 sec\n",
      " ARIMA(0,1,4)(0,1,0)[12]             : AIC=533.873, Time=0.20 sec\n",
      " ARIMA(0,1,4)(0,1,1)[12]             : AIC=532.733, Time=0.51 sec\n",
      " ARIMA(0,1,4)(1,1,0)[12]             : AIC=532.354, Time=0.33 sec\n",
      " ARIMA(0,1,5)(0,1,0)[12]             : AIC=535.658, Time=0.20 sec\n",
      " ARIMA(1,1,0)(0,1,0)[12]             : AIC=533.661, Time=0.07 sec\n",
      " ARIMA(1,1,0)(0,1,1)[12]             : AIC=531.555, Time=0.21 sec\n",
      " ARIMA(1,1,0)(0,1,2)[12]             : AIC=532.688, Time=0.52 sec\n",
      " ARIMA(1,1,0)(1,1,0)[12]             : AIC=531.110, Time=0.12 sec\n",
      " ARIMA(1,1,0)(1,1,1)[12]             : AIC=533.110, Time=0.28 sec\n",
      " ARIMA(1,1,0)(1,1,2)[12]             : AIC=inf, Time=2.31 sec\n",
      " ARIMA(1,1,0)(2,1,0)[12]             : AIC=533.110, Time=0.34 sec\n",
      " ARIMA(1,1,0)(2,1,1)[12]             : AIC=inf, Time=2.60 sec\n",
      " ARIMA(1,1,0)(2,1,2)[12]             : AIC=inf, Time=2.71 sec\n",
      " ARIMA(1,1,1)(0,1,0)[12]             : AIC=534.574, Time=0.09 sec\n",
      " ARIMA(1,1,1)(0,1,1)[12]             : AIC=533.100, Time=0.36 sec\n",
      " ARIMA(1,1,1)(0,1,2)[12]             : AIC=534.369, Time=0.81 sec\n",
      " ARIMA(1,1,1)(1,1,0)[12]             : AIC=532.699, Time=0.26 sec\n",
      " ARIMA(1,1,1)(1,1,1)[12]             : AIC=534.691, Time=0.43 sec\n",
      " ARIMA(1,1,1)(1,1,2)[12]             : AIC=inf, Time=2.32 sec\n",
      " ARIMA(1,1,1)(2,1,0)[12]             : AIC=534.684, Time=0.57 sec\n",
      " ARIMA(1,1,1)(2,1,1)[12]             : AIC=536.699, Time=0.94 sec\n",
      " ARIMA(1,1,2)(0,1,0)[12]             : AIC=536.482, Time=0.14 sec\n",
      " ARIMA(1,1,2)(0,1,1)[12]             : AIC=534.923, Time=0.53 sec\n",
      " ARIMA(1,1,2)(0,1,2)[12]             : AIC=536.022, Time=1.15 sec\n",
      " ARIMA(1,1,2)(1,1,0)[12]             : AIC=534.457, Time=0.37 sec\n",
      " ARIMA(1,1,2)(1,1,1)[12]             : AIC=536.442, Time=0.69 sec\n",
      " ARIMA(1,1,2)(2,1,0)[12]             : AIC=536.424, Time=1.14 sec\n",
      " ARIMA(1,1,3)(0,1,0)[12]             : AIC=533.887, Time=0.19 sec\n",
      " ARIMA(1,1,3)(0,1,1)[12]             : AIC=532.786, Time=0.68 sec\n",
      " ARIMA(1,1,3)(1,1,0)[12]             : AIC=532.394, Time=0.65 sec\n",
      " ARIMA(1,1,4)(0,1,0)[12]             : AIC=inf, Time=0.84 sec\n",
      " ARIMA(2,1,0)(0,1,0)[12]             : AIC=535.574, Time=0.12 sec\n",
      " ARIMA(2,1,0)(0,1,1)[12]             : AIC=533.526, Time=0.25 sec\n",
      " ARIMA(2,1,0)(0,1,2)[12]             : AIC=534.677, Time=0.60 sec\n",
      " ARIMA(2,1,0)(1,1,0)[12]             : AIC=533.088, Time=0.19 sec\n",
      " ARIMA(2,1,0)(1,1,1)[12]             : AIC=535.087, Time=0.35 sec\n",
      " ARIMA(2,1,0)(1,1,2)[12]             : AIC=inf, Time=2.99 sec\n",
      " ARIMA(2,1,0)(2,1,0)[12]             : AIC=535.087, Time=0.52 sec\n",
      " ARIMA(2,1,0)(2,1,1)[12]             : AIC=inf, Time=2.75 sec\n",
      " ARIMA(2,1,1)(0,1,0)[12]             : AIC=535.141, Time=0.33 sec\n",
      " ARIMA(2,1,1)(0,1,1)[12]             : AIC=532.915, Time=0.79 sec\n",
      " ARIMA(2,1,1)(0,1,2)[12]             : AIC=534.172, Time=1.39 sec\n",
      " ARIMA(2,1,1)(1,1,0)[12]             : AIC=532.551, Time=0.67 sec\n",
      " ARIMA(2,1,1)(1,1,1)[12]             : AIC=534.544, Time=0.91 sec\n",
      " ARIMA(2,1,1)(2,1,0)[12]             : AIC=534.535, Time=1.35 sec\n",
      " ARIMA(2,1,2)(0,1,0)[12]             : AIC=535.337, Time=0.23 sec\n",
      " ARIMA(2,1,2)(0,1,1)[12]             : AIC=533.830, Time=0.62 sec\n",
      " ARIMA(2,1,2)(1,1,0)[12]             : AIC=533.462, Time=0.75 sec\n",
      " ARIMA(2,1,3)(0,1,0)[12]             : AIC=535.578, Time=0.33 sec\n",
      " ARIMA(3,1,0)(0,1,0)[12]             : AIC=532.142, Time=0.11 sec\n",
      " ARIMA(3,1,0)(0,1,1)[12]             : AIC=531.926, Time=0.27 sec\n",
      " ARIMA(3,1,0)(0,1,2)[12]             : AIC=532.982, Time=0.69 sec\n",
      " ARIMA(3,1,0)(1,1,0)[12]             : AIC=531.524, Time=0.36 sec\n",
      " ARIMA(3,1,0)(1,1,1)[12]             : AIC=533.349, Time=0.80 sec\n",
      " ARIMA(3,1,0)(2,1,0)[12]             : AIC=533.180, Time=0.58 sec\n",
      " ARIMA(3,1,1)(0,1,0)[12]             : AIC=533.687, Time=0.17 sec\n",
      " ARIMA(3,1,1)(0,1,1)[12]             : AIC=533.082, Time=0.58 sec\n",
      " ARIMA(3,1,1)(1,1,0)[12]             : AIC=532.646, Time=0.47 sec\n",
      " ARIMA(3,1,2)(0,1,0)[12]             : AIC=533.492, Time=0.53 sec\n",
      " ARIMA(4,1,0)(0,1,0)[12]             : AIC=533.538, Time=0.11 sec\n",
      " ARIMA(4,1,0)(0,1,1)[12]             : AIC=532.924, Time=0.48 sec\n",
      " ARIMA(4,1,0)(1,1,0)[12]             : AIC=532.474, Time=0.34 sec\n",
      " ARIMA(4,1,1)(0,1,0)[12]             : AIC=535.456, Time=0.39 sec\n",
      " ARIMA(5,1,0)(0,1,0)[12]             : AIC=535.431, Time=0.19 sec\n",
      "\n",
      "Best model:  ARIMA(0,1,3)(1,1,0)[12]          \n",
      "Total fit time: 78.050 seconds\n"
     ]
    }
   ],
   "source": [
    "auto_arima_model = pm.auto_arima(train[\"Passengers\"],start_p= 0,start_q = 0,max_p = 10,max_q = 10,m=12,start_P = 0,seasonal = True,d=1,D=1,trace = True,error_action= \"ignore\",supress_warnigs=True,stepwise=False)"
   ]
  },
  {
   "cell_type": "code",
   "execution_count": 87,
   "id": "ac7bafd2",
   "metadata": {},
   "outputs": [
    {
     "data": {
      "text/html": [
       "<table class=\"simpletable\">\n",
       "<caption>SARIMAX Results</caption>\n",
       "<tr>\n",
       "  <th>Dep. Variable:</th>                  <td>y</td>                <th>  No. Observations:  </th>    <td>84</td>   \n",
       "</tr>\n",
       "<tr>\n",
       "  <th>Model:</th>           <td>SARIMAX(0, 1, 3)x(1, 1, [], 12)</td> <th>  Log Likelihood     </th> <td>-260.238</td>\n",
       "</tr>\n",
       "<tr>\n",
       "  <th>Date:</th>                   <td>Sat, 30 Oct 2021</td>         <th>  AIC                </th>  <td>530.476</td>\n",
       "</tr>\n",
       "<tr>\n",
       "  <th>Time:</th>                       <td>14:45:43</td>             <th>  BIC                </th>  <td>541.789</td>\n",
       "</tr>\n",
       "<tr>\n",
       "  <th>Sample:</th>                         <td>0</td>                <th>  HQIC               </th>  <td>534.975</td>\n",
       "</tr>\n",
       "<tr>\n",
       "  <th></th>                              <td> - 84</td>              <th>                     </th>     <td> </td>   \n",
       "</tr>\n",
       "<tr>\n",
       "  <th>Covariance Type:</th>               <td>opg</td>               <th>                     </th>     <td> </td>   \n",
       "</tr>\n",
       "</table>\n",
       "<table class=\"simpletable\">\n",
       "<tr>\n",
       "      <td></td>        <th>coef</th>     <th>std err</th>      <th>z</th>      <th>P>|z|</th>  <th>[0.025</th>    <th>0.975]</th>  \n",
       "</tr>\n",
       "<tr>\n",
       "  <th>ma.L1</th>    <td>   -0.2709</td> <td>    0.124</td> <td>   -2.186</td> <td> 0.029</td> <td>   -0.514</td> <td>   -0.028</td>\n",
       "</tr>\n",
       "<tr>\n",
       "  <th>ma.L2</th>    <td>    0.0498</td> <td>    0.145</td> <td>    0.343</td> <td> 0.732</td> <td>   -0.235</td> <td>    0.334</td>\n",
       "</tr>\n",
       "<tr>\n",
       "  <th>ma.L3</th>    <td>   -0.2590</td> <td>    0.145</td> <td>   -1.785</td> <td> 0.074</td> <td>   -0.543</td> <td>    0.025</td>\n",
       "</tr>\n",
       "<tr>\n",
       "  <th>ar.S.L12</th> <td>   -0.2329</td> <td>    0.122</td> <td>   -1.913</td> <td> 0.056</td> <td>   -0.472</td> <td>    0.006</td>\n",
       "</tr>\n",
       "<tr>\n",
       "  <th>sigma2</th>   <td>   88.1575</td> <td>   15.740</td> <td>    5.601</td> <td> 0.000</td> <td>   57.308</td> <td>  119.007</td>\n",
       "</tr>\n",
       "</table>\n",
       "<table class=\"simpletable\">\n",
       "<tr>\n",
       "  <th>Ljung-Box (L1) (Q):</th>     <td>0.00</td> <th>  Jarque-Bera (JB):  </th> <td>1.37</td>\n",
       "</tr>\n",
       "<tr>\n",
       "  <th>Prob(Q):</th>                <td>0.96</td> <th>  Prob(JB):          </th> <td>0.51</td>\n",
       "</tr>\n",
       "<tr>\n",
       "  <th>Heteroskedasticity (H):</th> <td>2.57</td> <th>  Skew:              </th> <td>0.33</td>\n",
       "</tr>\n",
       "<tr>\n",
       "  <th>Prob(H) (two-sided):</th>    <td>0.02</td> <th>  Kurtosis:          </th> <td>2.86</td>\n",
       "</tr>\n",
       "</table><br/><br/>Warnings:<br/>[1] Covariance matrix calculated using the outer product of gradients (complex-step)."
      ],
      "text/plain": [
       "<class 'statsmodels.iolib.summary.Summary'>\n",
       "\"\"\"\n",
       "                                      SARIMAX Results                                      \n",
       "===========================================================================================\n",
       "Dep. Variable:                                   y   No. Observations:                   84\n",
       "Model:             SARIMAX(0, 1, 3)x(1, 1, [], 12)   Log Likelihood                -260.238\n",
       "Date:                             Sat, 30 Oct 2021   AIC                            530.476\n",
       "Time:                                     14:45:43   BIC                            541.789\n",
       "Sample:                                          0   HQIC                           534.975\n",
       "                                              - 84                                         \n",
       "Covariance Type:                               opg                                         \n",
       "==============================================================================\n",
       "                 coef    std err          z      P>|z|      [0.025      0.975]\n",
       "------------------------------------------------------------------------------\n",
       "ma.L1         -0.2709      0.124     -2.186      0.029      -0.514      -0.028\n",
       "ma.L2          0.0498      0.145      0.343      0.732      -0.235       0.334\n",
       "ma.L3         -0.2590      0.145     -1.785      0.074      -0.543       0.025\n",
       "ar.S.L12      -0.2329      0.122     -1.913      0.056      -0.472       0.006\n",
       "sigma2        88.1575     15.740      5.601      0.000      57.308     119.007\n",
       "===================================================================================\n",
       "Ljung-Box (L1) (Q):                   0.00   Jarque-Bera (JB):                 1.37\n",
       "Prob(Q):                              0.96   Prob(JB):                         0.51\n",
       "Heteroskedasticity (H):               2.57   Skew:                             0.33\n",
       "Prob(H) (two-sided):                  0.02   Kurtosis:                         2.86\n",
       "===================================================================================\n",
       "\n",
       "Warnings:\n",
       "[1] Covariance matrix calculated using the outer product of gradients (complex-step).\n",
       "\"\"\""
      ]
     },
     "execution_count": 87,
     "metadata": {},
     "output_type": "execute_result"
    }
   ],
   "source": [
    "auto_arima_model.summary()"
   ]
  },
  {
   "cell_type": "code",
   "execution_count": 88,
   "id": "158979fc",
   "metadata": {},
   "outputs": [
    {
     "data": {
      "text/plain": [
       "array([  0.        , 111.99844813, 118.00045967, 131.9983274 ,\n",
       "       129.00009469, 120.99985026, 134.99959501, 147.99998934,\n",
       "       147.99980738, 136.00033356, 119.0002249 , 104.00093982,\n",
       "       174.00148179, 121.00367303, 138.69847682, 137.95241334,\n",
       "       126.69489276, 138.73784253, 159.8803426 , 168.24172487,\n",
       "       155.39216007, 137.77522852, 119.34138545, 128.6559998 ,\n",
       "       135.1675863 , 154.15310823, 163.57539413, 166.17053619,\n",
       "       156.10557372, 185.48892209, 200.7793436 , 194.99711975,\n",
       "       187.76592324, 162.54354671, 142.85499157, 169.3011275 ,\n",
       "       170.32835272, 176.23678657, 204.8408272 , 183.31770708,\n",
       "       184.63883206, 196.58757897, 233.71716948, 232.49702303,\n",
       "       219.39383304, 190.55287953, 171.20192297, 195.89520313,\n",
       "       199.43740916, 204.69869516, 215.17030141, 218.11498224,\n",
       "       237.34474735, 254.95233392, 255.54663895, 272.48097162,\n",
       "       246.83871405, 218.52094591, 194.37145964, 207.60169114,\n",
       "       206.7199969 , 210.22647826, 229.30768648, 229.49407913,\n",
       "       229.57832426, 250.09493151, 280.00223678, 304.5183877 ,\n",
       "       259.08022619, 228.61511099, 203.66962331, 224.45427072,\n",
       "       230.40246602, 226.98398456, 276.13949557, 260.40259233,\n",
       "       268.62997354, 298.69685006, 342.46496207, 353.58125828,\n",
       "       311.39975441, 276.86459044, 249.34578865, 264.88242255])"
      ]
     },
     "execution_count": 88,
     "metadata": {},
     "output_type": "execute_result"
    }
   ],
   "source": [
    "auto_arima_model.predict_in_sample()"
   ]
  },
  {
   "cell_type": "code",
   "execution_count": 89,
   "id": "b07aa744",
   "metadata": {},
   "outputs": [],
   "source": [
    "auto_arima_pred_test = pd.Series(auto_arima_model.predict(n_periods=12))"
   ]
  },
  {
   "cell_type": "code",
   "execution_count": 90,
   "id": "4002df1e",
   "metadata": {},
   "outputs": [
    {
     "data": {
      "text/plain": [
       "0     285.244292\n",
       "1     278.463824\n",
       "2     312.094633\n",
       "3     311.765493\n",
       "4     314.162977\n",
       "5     355.669267\n",
       "6     402.107213\n",
       "7     386.970525\n",
       "8     352.203439\n",
       "9     316.066751\n",
       "10    281.628805\n",
       "11    319.135095\n",
       "dtype: float64"
      ]
     },
     "execution_count": 90,
     "metadata": {},
     "output_type": "execute_result"
    }
   ],
   "source": [
    "auto_arima_pred_test"
   ]
  },
  {
   "cell_type": "code",
   "execution_count": 91,
   "id": "29e35712",
   "metadata": {},
   "outputs": [
    {
     "data": {
      "text/html": [
       "<div>\n",
       "<style scoped>\n",
       "    .dataframe tbody tr th:only-of-type {\n",
       "        vertical-align: middle;\n",
       "    }\n",
       "\n",
       "    .dataframe tbody tr th {\n",
       "        vertical-align: top;\n",
       "    }\n",
       "\n",
       "    .dataframe thead th {\n",
       "        text-align: right;\n",
       "    }\n",
       "</style>\n",
       "<table border=\"1\" class=\"dataframe\">\n",
       "  <thead>\n",
       "    <tr style=\"text-align: right;\">\n",
       "      <th></th>\n",
       "      <th>Month</th>\n",
       "      <th>Passengers</th>\n",
       "      <th>Date</th>\n",
       "      <th>month</th>\n",
       "      <th>year</th>\n",
       "    </tr>\n",
       "    <tr>\n",
       "      <th>Month</th>\n",
       "      <th></th>\n",
       "      <th></th>\n",
       "      <th></th>\n",
       "      <th></th>\n",
       "      <th></th>\n",
       "    </tr>\n",
       "  </thead>\n",
       "  <tbody>\n",
       "    <tr>\n",
       "      <th>2002-01-01</th>\n",
       "      <td>2002-01-01</td>\n",
       "      <td>284</td>\n",
       "      <td>2002-01-01</td>\n",
       "      <td>Jan</td>\n",
       "      <td>02</td>\n",
       "    </tr>\n",
       "    <tr>\n",
       "      <th>2002-02-01</th>\n",
       "      <td>2002-02-01</td>\n",
       "      <td>277</td>\n",
       "      <td>2002-02-01</td>\n",
       "      <td>Feb</td>\n",
       "      <td>02</td>\n",
       "    </tr>\n",
       "    <tr>\n",
       "      <th>2002-03-01</th>\n",
       "      <td>2002-03-01</td>\n",
       "      <td>317</td>\n",
       "      <td>2002-03-01</td>\n",
       "      <td>Mar</td>\n",
       "      <td>02</td>\n",
       "    </tr>\n",
       "    <tr>\n",
       "      <th>2002-04-01</th>\n",
       "      <td>2002-04-01</td>\n",
       "      <td>313</td>\n",
       "      <td>2002-04-01</td>\n",
       "      <td>Apr</td>\n",
       "      <td>02</td>\n",
       "    </tr>\n",
       "    <tr>\n",
       "      <th>2002-05-01</th>\n",
       "      <td>2002-05-01</td>\n",
       "      <td>318</td>\n",
       "      <td>2002-05-01</td>\n",
       "      <td>May</td>\n",
       "      <td>02</td>\n",
       "    </tr>\n",
       "    <tr>\n",
       "      <th>2002-06-01</th>\n",
       "      <td>2002-06-01</td>\n",
       "      <td>374</td>\n",
       "      <td>2002-06-01</td>\n",
       "      <td>Jun</td>\n",
       "      <td>02</td>\n",
       "    </tr>\n",
       "    <tr>\n",
       "      <th>2002-07-01</th>\n",
       "      <td>2002-07-01</td>\n",
       "      <td>413</td>\n",
       "      <td>2002-07-01</td>\n",
       "      <td>Jul</td>\n",
       "      <td>02</td>\n",
       "    </tr>\n",
       "    <tr>\n",
       "      <th>2002-08-01</th>\n",
       "      <td>2002-08-01</td>\n",
       "      <td>405</td>\n",
       "      <td>2002-08-01</td>\n",
       "      <td>Aug</td>\n",
       "      <td>02</td>\n",
       "    </tr>\n",
       "    <tr>\n",
       "      <th>2002-09-01</th>\n",
       "      <td>2002-09-01</td>\n",
       "      <td>355</td>\n",
       "      <td>2002-09-01</td>\n",
       "      <td>Sep</td>\n",
       "      <td>02</td>\n",
       "    </tr>\n",
       "    <tr>\n",
       "      <th>2002-10-01</th>\n",
       "      <td>2002-10-01</td>\n",
       "      <td>306</td>\n",
       "      <td>2002-10-01</td>\n",
       "      <td>Oct</td>\n",
       "      <td>02</td>\n",
       "    </tr>\n",
       "    <tr>\n",
       "      <th>2002-11-01</th>\n",
       "      <td>2002-11-01</td>\n",
       "      <td>271</td>\n",
       "      <td>2002-11-01</td>\n",
       "      <td>Nov</td>\n",
       "      <td>02</td>\n",
       "    </tr>\n",
       "    <tr>\n",
       "      <th>2002-12-01</th>\n",
       "      <td>2002-12-01</td>\n",
       "      <td>306</td>\n",
       "      <td>2002-12-01</td>\n",
       "      <td>Dec</td>\n",
       "      <td>02</td>\n",
       "    </tr>\n",
       "  </tbody>\n",
       "</table>\n",
       "</div>"
      ],
      "text/plain": [
       "                Month  Passengers       Date month year\n",
       "Month                                                  \n",
       "2002-01-01 2002-01-01         284 2002-01-01   Jan   02\n",
       "2002-02-01 2002-02-01         277 2002-02-01   Feb   02\n",
       "2002-03-01 2002-03-01         317 2002-03-01   Mar   02\n",
       "2002-04-01 2002-04-01         313 2002-04-01   Apr   02\n",
       "2002-05-01 2002-05-01         318 2002-05-01   May   02\n",
       "2002-06-01 2002-06-01         374 2002-06-01   Jun   02\n",
       "2002-07-01 2002-07-01         413 2002-07-01   Jul   02\n",
       "2002-08-01 2002-08-01         405 2002-08-01   Aug   02\n",
       "2002-09-01 2002-09-01         355 2002-09-01   Sep   02\n",
       "2002-10-01 2002-10-01         306 2002-10-01   Oct   02\n",
       "2002-11-01 2002-11-01         271 2002-11-01   Nov   02\n",
       "2002-12-01 2002-12-01         306 2002-12-01   Dec   02"
      ]
     },
     "execution_count": 91,
     "metadata": {},
     "output_type": "execute_result"
    }
   ],
   "source": [
    "test"
   ]
  },
  {
   "cell_type": "code",
   "execution_count": 92,
   "id": "f6d13745",
   "metadata": {},
   "outputs": [],
   "source": [
    "auto_arima_pred_test.index = test.index"
   ]
  },
  {
   "cell_type": "code",
   "execution_count": 93,
   "id": "5153caef",
   "metadata": {},
   "outputs": [],
   "source": [
    "mape_auto_arima_model = MAPE(auto_arima_pred_test,test.Passengers)"
   ]
  },
  {
   "cell_type": "code",
   "execution_count": 116,
   "id": "1d6d0f55",
   "metadata": {},
   "outputs": [
    {
     "ename": "TypeError",
     "evalue": "MAPE() missing 1 required positional argument: 'org'",
     "output_type": "error",
     "traceback": [
      "\u001b[1;31m---------------------------------------------------------------------------\u001b[0m",
      "\u001b[1;31mTypeError\u001b[0m                                 Traceback (most recent call last)",
      "\u001b[1;32m<ipython-input-116-9faec0a2bf6d>\u001b[0m in \u001b[0;36m<module>\u001b[1;34m\u001b[0m\n\u001b[1;32m----> 1\u001b[1;33m \u001b[0mMAPE\u001b[0m\u001b[1;33m(\u001b[0m\u001b[0mtest\u001b[0m\u001b[1;33m.\u001b[0m\u001b[0mPassengers\u001b[0m\u001b[1;33m)\u001b[0m\u001b[1;33m\u001b[0m\u001b[1;33m\u001b[0m\u001b[0m\n\u001b[0m",
      "\u001b[1;31mTypeError\u001b[0m: MAPE() missing 1 required positional argument: 'org'"
     ]
    }
   ],
   "source": [
    "MAPE(pred_test,test.Passengers)"
   ]
  },
  {
   "cell_type": "code",
   "execution_count": 95,
   "id": "4ac253a0",
   "metadata": {},
   "outputs": [],
   "source": [
    "from itertools import product"
   ]
  },
  {
   "cell_type": "code",
   "execution_count": 96,
   "id": "6930ad95",
   "metadata": {},
   "outputs": [],
   "source": [
    "combinations_l = list(product(range(1,7),range(2),(1,9)))"
   ]
  },
  {
   "cell_type": "code",
   "execution_count": 97,
   "id": "90a52aaa",
   "metadata": {},
   "outputs": [],
   "source": [
    "combinations_u = list(product(range(1,7),range(2),(1,9)))"
   ]
  },
  {
   "cell_type": "code",
   "execution_count": 98,
   "id": "78525abc",
   "metadata": {},
   "outputs": [
    {
     "name": "stdout",
     "output_type": "stream",
     "text": [
      "[(1, 0, 1), (1, 0, 9), (1, 1, 1), (1, 1, 9), (2, 0, 1), (2, 0, 9), (2, 1, 1), (2, 1, 9), (3, 0, 1), (3, 0, 9), (3, 1, 1), (3, 1, 9), (4, 0, 1), (4, 0, 9), (4, 1, 1), (4, 1, 9), (5, 0, 1), (5, 0, 9), (5, 1, 1), (5, 1, 9), (6, 0, 1), (6, 0, 9), (6, 1, 1), (6, 1, 9)]\n"
     ]
    }
   ],
   "source": [
    "print(combinations_l)"
   ]
  },
  {
   "cell_type": "code",
   "execution_count": 99,
   "id": "370927fe",
   "metadata": {},
   "outputs": [
    {
     "data": {
      "text/plain": [
       "24"
      ]
     },
     "execution_count": 99,
     "metadata": {},
     "output_type": "execute_result"
    }
   ],
   "source": [
    "len(combinations_l)"
   ]
  },
  {
   "cell_type": "code",
   "execution_count": 100,
   "id": "0a5a6178",
   "metadata": {},
   "outputs": [
    {
     "name": "stdout",
     "output_type": "stream",
     "text": [
      "[(1, 0, 1), (1, 0, 9), (1, 1, 1), (1, 1, 9), (2, 0, 1), (2, 0, 9), (2, 1, 1), (2, 1, 9), (3, 0, 1), (3, 0, 9), (3, 1, 1), (3, 1, 9), (4, 0, 1), (4, 0, 9), (4, 1, 1), (4, 1, 9), (5, 0, 1), (5, 0, 9), (5, 1, 1), (5, 1, 9), (6, 0, 1), (6, 0, 9), (6, 1, 1), (6, 1, 9)]\n"
     ]
    }
   ],
   "source": [
    "print(combinations_u)"
   ]
  },
  {
   "cell_type": "code",
   "execution_count": 101,
   "id": "b7bda3e9",
   "metadata": {},
   "outputs": [
    {
     "data": {
      "text/plain": [
       "24"
      ]
     },
     "execution_count": 101,
     "metadata": {},
     "output_type": "execute_result"
    }
   ],
   "source": [
    "len(combinations_u)"
   ]
  },
  {
   "cell_type": "code",
   "execution_count": 102,
   "id": "8aace86f",
   "metadata": {},
   "outputs": [],
   "source": [
    "import warnings"
   ]
  },
  {
   "cell_type": "code",
   "execution_count": 103,
   "id": "36dd881d",
   "metadata": {},
   "outputs": [],
   "source": [
    "warnings.filterwarnings(\"ignore\")"
   ]
  },
  {
   "cell_type": "code",
   "execution_count": 104,
   "id": "b8dff027",
   "metadata": {},
   "outputs": [],
   "source": [
    "best_fit_model = sm.tsa.statespace.SARIMAX(train[\"Passengers\"],order = (1,1,1),seasonal_order = (1,1,1,12)).fit(disp=-1) # disp = -1 helps to neglect the errors."
   ]
  },
  {
   "cell_type": "code",
   "execution_count": 105,
   "id": "7ec4316d",
   "metadata": {},
   "outputs": [
    {
     "data": {
      "text/html": [
       "<table class=\"simpletable\">\n",
       "<caption>SARIMAX Results</caption>\n",
       "<tr>\n",
       "  <th>Dep. Variable:</th>             <td>Passengers</td>           <th>  No. Observations:  </th>    <td>84</td>   \n",
       "</tr>\n",
       "<tr>\n",
       "  <th>Model:</th>           <td>SARIMAX(1, 1, 1)x(1, 1, 1, 12)</td> <th>  Log Likelihood     </th> <td>-262.346</td>\n",
       "</tr>\n",
       "<tr>\n",
       "  <th>Date:</th>                   <td>Sat, 30 Oct 2021</td>        <th>  AIC                </th>  <td>534.691</td>\n",
       "</tr>\n",
       "<tr>\n",
       "  <th>Time:</th>                       <td>14:47:29</td>            <th>  BIC                </th>  <td>546.005</td>\n",
       "</tr>\n",
       "<tr>\n",
       "  <th>Sample:</th>                    <td>01-01-1995</td>           <th>  HQIC               </th>  <td>539.190</td>\n",
       "</tr>\n",
       "<tr>\n",
       "  <th></th>                          <td>- 12-01-2001</td>          <th>                     </th>     <td> </td>   \n",
       "</tr>\n",
       "<tr>\n",
       "  <th>Covariance Type:</th>               <td>opg</td>              <th>                     </th>     <td> </td>   \n",
       "</tr>\n",
       "</table>\n",
       "<table class=\"simpletable\">\n",
       "<tr>\n",
       "      <td></td>        <th>coef</th>     <th>std err</th>      <th>z</th>      <th>P>|z|</th>  <th>[0.025</th>    <th>0.975]</th>  \n",
       "</tr>\n",
       "<tr>\n",
       "  <th>ar.L1</th>    <td>   -0.6310</td> <td>    0.373</td> <td>   -1.692</td> <td> 0.091</td> <td>   -1.362</td> <td>    0.100</td>\n",
       "</tr>\n",
       "<tr>\n",
       "  <th>ma.L1</th>    <td>    0.4287</td> <td>    0.405</td> <td>    1.059</td> <td> 0.289</td> <td>   -0.364</td> <td>    1.222</td>\n",
       "</tr>\n",
       "<tr>\n",
       "  <th>ar.S.L12</th> <td>   -0.2772</td> <td>    0.554</td> <td>   -0.500</td> <td> 0.617</td> <td>   -1.363</td> <td>    0.809</td>\n",
       "</tr>\n",
       "<tr>\n",
       "  <th>ma.S.L12</th> <td>    0.0361</td> <td>    0.630</td> <td>    0.057</td> <td> 0.954</td> <td>   -1.199</td> <td>    1.271</td>\n",
       "</tr>\n",
       "<tr>\n",
       "  <th>sigma2</th>   <td>   93.7524</td> <td>   17.521</td> <td>    5.351</td> <td> 0.000</td> <td>   59.411</td> <td>  128.094</td>\n",
       "</tr>\n",
       "</table>\n",
       "<table class=\"simpletable\">\n",
       "<tr>\n",
       "  <th>Ljung-Box (L1) (Q):</th>     <td>0.04</td> <th>  Jarque-Bera (JB):  </th> <td>2.02</td>\n",
       "</tr>\n",
       "<tr>\n",
       "  <th>Prob(Q):</th>                <td>0.85</td> <th>  Prob(JB):          </th> <td>0.36</td>\n",
       "</tr>\n",
       "<tr>\n",
       "  <th>Heteroskedasticity (H):</th> <td>2.57</td> <th>  Skew:              </th> <td>0.36</td>\n",
       "</tr>\n",
       "<tr>\n",
       "  <th>Prob(H) (two-sided):</th>    <td>0.02</td> <th>  Kurtosis:          </th> <td>2.60</td>\n",
       "</tr>\n",
       "</table><br/><br/>Warnings:<br/>[1] Covariance matrix calculated using the outer product of gradients (complex-step)."
      ],
      "text/plain": [
       "<class 'statsmodels.iolib.summary.Summary'>\n",
       "\"\"\"\n",
       "                                     SARIMAX Results                                      \n",
       "==========================================================================================\n",
       "Dep. Variable:                         Passengers   No. Observations:                   84\n",
       "Model:             SARIMAX(1, 1, 1)x(1, 1, 1, 12)   Log Likelihood                -262.346\n",
       "Date:                            Sat, 30 Oct 2021   AIC                            534.691\n",
       "Time:                                    14:47:29   BIC                            546.005\n",
       "Sample:                                01-01-1995   HQIC                           539.190\n",
       "                                     - 12-01-2001                                         \n",
       "Covariance Type:                              opg                                         \n",
       "==============================================================================\n",
       "                 coef    std err          z      P>|z|      [0.025      0.975]\n",
       "------------------------------------------------------------------------------\n",
       "ar.L1         -0.6310      0.373     -1.692      0.091      -1.362       0.100\n",
       "ma.L1          0.4287      0.405      1.059      0.289      -0.364       1.222\n",
       "ar.S.L12      -0.2772      0.554     -0.500      0.617      -1.363       0.809\n",
       "ma.S.L12       0.0361      0.630      0.057      0.954      -1.199       1.271\n",
       "sigma2        93.7524     17.521      5.351      0.000      59.411     128.094\n",
       "===================================================================================\n",
       "Ljung-Box (L1) (Q):                   0.04   Jarque-Bera (JB):                 2.02\n",
       "Prob(Q):                              0.85   Prob(JB):                         0.36\n",
       "Heteroskedasticity (H):               2.57   Skew:                             0.36\n",
       "Prob(H) (two-sided):                  0.02   Kurtosis:                         2.60\n",
       "===================================================================================\n",
       "\n",
       "Warnings:\n",
       "[1] Covariance matrix calculated using the outer product of gradients (complex-step).\n",
       "\"\"\""
      ]
     },
     "execution_count": 105,
     "metadata": {},
     "output_type": "execute_result"
    }
   ],
   "source": [
    "best_fit_model.summary()"
   ]
  },
  {
   "cell_type": "code",
   "execution_count": 106,
   "id": "fb10f3d9",
   "metadata": {},
   "outputs": [
    {
     "data": {
      "text/plain": [
       "534.6911586205581"
      ]
     },
     "execution_count": 106,
     "metadata": {},
     "output_type": "execute_result"
    }
   ],
   "source": [
    "best_fit_model.aic"
   ]
  },
  {
   "cell_type": "code",
   "execution_count": 107,
   "id": "6222f5c1",
   "metadata": {},
   "outputs": [],
   "source": [
    "sarima_pred = best_fit_model.predict(start = test.index[0],end = test.index[-1])"
   ]
  },
  {
   "cell_type": "code",
   "execution_count": 108,
   "id": "75d2c1ff",
   "metadata": {},
   "outputs": [],
   "source": [
    "airlines[\"sarima_pred\"] = sarima_pred"
   ]
  },
  {
   "cell_type": "code",
   "execution_count": 109,
   "id": "f07909c0",
   "metadata": {},
   "outputs": [
    {
     "data": {
      "text/plain": [
       "2002-01-01    284.893730\n",
       "2002-02-01    276.406835\n",
       "2002-03-01    312.119131\n",
       "2002-04-01    312.573999\n",
       "2002-05-01    314.549123\n",
       "2002-06-01    356.448436\n",
       "2002-07-01    402.706793\n",
       "2002-08-01    387.637147\n",
       "2002-09-01    352.794314\n",
       "2002-10-01    316.750083\n",
       "2002-11-01    282.412939\n",
       "2002-12-01    319.862813\n",
       "Freq: MS, Name: predicted_mean, dtype: float64"
      ]
     },
     "execution_count": 109,
     "metadata": {},
     "output_type": "execute_result"
    }
   ],
   "source": [
    "sarima_pred"
   ]
  },
  {
   "cell_type": "code",
   "execution_count": 110,
   "id": "fb146cc6",
   "metadata": {},
   "outputs": [],
   "source": [
    "mape_sarima = MAPE(sarima_pred,test.Passengers)"
   ]
  },
  {
   "cell_type": "code",
   "execution_count": 111,
   "id": "5f45b485",
   "metadata": {},
   "outputs": [
    {
     "data": {
      "text/plain": [
       "2.3031956505131235"
      ]
     },
     "execution_count": 111,
     "metadata": {},
     "output_type": "execute_result"
    }
   ],
   "source": [
    "mape_sarima"
   ]
  },
  {
   "cell_type": "code",
   "execution_count": 112,
   "id": "16f7d1af",
   "metadata": {},
   "outputs": [],
   "source": [
    "MAPE_Table ={\"MODLE\" : pd.Series([\"ses_model\",\"hw_model\",\"hwe_model_add_add\",\"hwe_model_mul_mul\",\"auto_arima_model\",\"sarima_model\"]),\n",
    "             \"MAPE\": pd.Series([mape_ses,mape_hw,mape_hwe_add_add,mape_hwe_mul_add,mape_auto_arima_model,mape_sarima])}"
   ]
  },
  {
   "cell_type": "code",
   "execution_count": 113,
   "id": "b53c0581",
   "metadata": {},
   "outputs": [
    {
     "data": {
      "text/plain": [
       "{'MODLE': 0            ses_model\n",
       " 1             hw_model\n",
       " 2    hwe_model_add_add\n",
       " 3    hwe_model_mul_mul\n",
       " 4     auto_arima_model\n",
       " 5         sarima_model\n",
       " dtype: object,\n",
       " 'MAPE': 0    14.235433\n",
       " 1    11.885523\n",
       " 2     3.913674\n",
       " 3     2.820720\n",
       " 4     2.366470\n",
       " 5     2.303196\n",
       " dtype: float64}"
      ]
     },
     "execution_count": 113,
     "metadata": {},
     "output_type": "execute_result"
    }
   ],
   "source": [
    "MAPE_Table"
   ]
  },
  {
   "cell_type": "code",
   "execution_count": 114,
   "id": "534f7eb2",
   "metadata": {},
   "outputs": [],
   "source": [
    "Best_model_comparison_table = pd.DataFrame(MAPE_Table)"
   ]
  },
  {
   "cell_type": "code",
   "execution_count": 115,
   "id": "a9dd28c3",
   "metadata": {},
   "outputs": [
    {
     "data": {
      "text/html": [
       "<div>\n",
       "<style scoped>\n",
       "    .dataframe tbody tr th:only-of-type {\n",
       "        vertical-align: middle;\n",
       "    }\n",
       "\n",
       "    .dataframe tbody tr th {\n",
       "        vertical-align: top;\n",
       "    }\n",
       "\n",
       "    .dataframe thead th {\n",
       "        text-align: right;\n",
       "    }\n",
       "</style>\n",
       "<table border=\"1\" class=\"dataframe\">\n",
       "  <thead>\n",
       "    <tr style=\"text-align: right;\">\n",
       "      <th></th>\n",
       "      <th>MODLE</th>\n",
       "      <th>MAPE</th>\n",
       "    </tr>\n",
       "  </thead>\n",
       "  <tbody>\n",
       "    <tr>\n",
       "      <th>0</th>\n",
       "      <td>ses_model</td>\n",
       "      <td>14.235433</td>\n",
       "    </tr>\n",
       "    <tr>\n",
       "      <th>1</th>\n",
       "      <td>hw_model</td>\n",
       "      <td>11.885523</td>\n",
       "    </tr>\n",
       "    <tr>\n",
       "      <th>2</th>\n",
       "      <td>hwe_model_add_add</td>\n",
       "      <td>3.913674</td>\n",
       "    </tr>\n",
       "    <tr>\n",
       "      <th>3</th>\n",
       "      <td>hwe_model_mul_mul</td>\n",
       "      <td>2.820720</td>\n",
       "    </tr>\n",
       "    <tr>\n",
       "      <th>4</th>\n",
       "      <td>auto_arima_model</td>\n",
       "      <td>2.366470</td>\n",
       "    </tr>\n",
       "    <tr>\n",
       "      <th>5</th>\n",
       "      <td>sarima_model</td>\n",
       "      <td>2.303196</td>\n",
       "    </tr>\n",
       "  </tbody>\n",
       "</table>\n",
       "</div>"
      ],
      "text/plain": [
       "               MODLE       MAPE\n",
       "0          ses_model  14.235433\n",
       "1           hw_model  11.885523\n",
       "2  hwe_model_add_add   3.913674\n",
       "3  hwe_model_mul_mul   2.820720\n",
       "4   auto_arima_model   2.366470\n",
       "5       sarima_model   2.303196"
      ]
     },
     "execution_count": 115,
     "metadata": {},
     "output_type": "execute_result"
    }
   ],
   "source": [
    "Best_model_comparison_table"
   ]
  },
  {
   "cell_type": "code",
   "execution_count": 117,
   "id": "b52de6c7",
   "metadata": {},
   "outputs": [],
   "source": [
    "##table we can say that the \"Holt's Winter Exponential Model with Additive Seasonality and Additive Trend\" is giving MAPE"
   ]
  },
  {
   "cell_type": "code",
   "execution_count": 118,
   "id": "8c7bce11",
   "metadata": {},
   "outputs": [],
   "source": [
    "##i.e. Error. So we will use this model for the prediction and forecasting of the similar data in future."
   ]
  },
  {
   "cell_type": "code",
   "execution_count": null,
   "id": "5ea8ba18",
   "metadata": {},
   "outputs": [],
   "source": []
  }
 ],
 "metadata": {
  "kernelspec": {
   "display_name": "Python 3",
   "language": "python",
   "name": "python3"
  },
  "language_info": {
   "codemirror_mode": {
    "name": "ipython",
    "version": 3
   },
   "file_extension": ".py",
   "mimetype": "text/x-python",
   "name": "python",
   "nbconvert_exporter": "python",
   "pygments_lexer": "ipython3",
   "version": "3.8.8"
  }
 },
 "nbformat": 4,
 "nbformat_minor": 5
}
